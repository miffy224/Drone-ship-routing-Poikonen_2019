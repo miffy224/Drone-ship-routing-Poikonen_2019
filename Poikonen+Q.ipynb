{
 "cells": [
  {
   "cell_type": "code",
   "execution_count": 1,
   "metadata": {},
   "outputs": [],
   "source": [
    "from gurobipy import *\n",
    "from math import * "
   ]
  },
  {
   "cell_type": "code",
   "execution_count": 2,
   "metadata": {},
   "outputs": [],
   "source": [
    "\"\"\"\n",
    "\n",
    "Poikonen, S., & Golden, B. (2020). \n",
    "The mothership and drone routing problem. \n",
    "INFORMS Journal on Computing, 32(2), 249-262.\n",
    "\n",
    "https://drive.google.com/file/d/1C_4_F6HzwCA3upkeWnZ0CWkMoHHefzy5/view\n",
    "\n",
    "\"\"\"\n",
    "\n",
    "\n",
    "n=4"
   ]
  },
  {
   "cell_type": "code",
   "execution_count": 3,
   "metadata": {},
   "outputs": [],
   "source": [
    "s=((10,10),(10,90),(90,15),(90,10),(50,0),(10,10));\n",
    "\n",
    "orig=(10,10)\n",
    "dest=(10,10)\n",
    "R=20\n",
    "alpha=2"
   ]
  },
  {
   "cell_type": "code",
   "execution_count": null,
   "metadata": {},
   "outputs": [],
   "source": []
  },
  {
   "cell_type": "code",
   "execution_count": null,
   "metadata": {},
   "outputs": [],
   "source": []
  },
  {
   "cell_type": "code",
   "execution_count": 4,
   "metadata": {},
   "outputs": [
    {
     "name": "stdout",
     "output_type": "stream",
     "text": [
      "Academic license - for non-commercial use only\n"
     ]
    }
   ],
   "source": [
    "# Create a new model\n",
    "m = Model(\"Poikonen_2019\")"
   ]
  },
  {
   "cell_type": "code",
   "execution_count": 5,
   "metadata": {},
   "outputs": [],
   "source": [
    "# Create variables\n",
    "\n",
    "cTime = {};\n",
    "sTime = {};\n",
    "\n",
    "lPoint_x= {};\n",
    "lPoint_y= {};\n",
    "\n",
    "rPoint_x= {};\n",
    "rPoint_y= {};\n",
    "\n",
    "Qx = {};\n",
    "Qy = {};\n",
    "\n",
    "w = {};\n",
    "\n",
    "\n",
    "outFlightDist = {};\n",
    "inFlightDist = {};\n",
    "\n",
    "#for SOCP\n",
    "Cx= {};\n",
    "Cy= {};\n",
    "C= {};\n"
   ]
  },
  {
   "cell_type": "code",
   "execution_count": 6,
   "metadata": {},
   "outputs": [],
   "source": [
    "for i in range(0, n+1):\n",
    "    \n",
    "    \n",
    "    outFlightDist[i] = m.addVar(lb=0.0,vtype = 'C',name='outFlightDist[%s]'%i);\n",
    "    inFlightDist[i] = m.addVar(lb=0.0,vtype = 'C',name='inFlightDist[%s]'%i);\n",
    "    \n",
    "\n",
    "    \n",
    "\n",
    "for i in range(0, n+2):\n",
    "    lPoint_x[i] = m.addVar(vtype = 'C',name='lPoint_x[%s]'%i);\n",
    "    lPoint_y[i] = m.addVar(vtype = 'C',name='lPoint_y[%s]'%i);\n",
    "    \n",
    "    rPoint_x[i] = m.addVar(vtype = 'C',name='rPoint_x[%s]'%i);\n",
    "    rPoint_y[i] = m.addVar(vtype = 'C',name='rPoint_y[%s]'%i);\n",
    "    \n",
    "    Qx[i] = m.addVar(vtype = 'C',name='Qx[%s]'%i);\n",
    "    Qy[i] = m.addVar(vtype = 'C',name='Qy[%s]'%i);\n",
    "    \n",
    "    cTime[i] = m.addVar(lb=0.0,vtype = 'C',name='cTime[%s]'%i);\n",
    "    \n",
    "    sTime[i] = m.addVar(lb=0.0,vtype = 'C',name='sTime[%s]'%i);\n",
    "    \n",
    "    \n",
    "    for j in range(0, n+2):\n",
    "        w[i,j] = m.addVar(vtype = 'B',name='w[%s,%s]'%(i,j));\n",
    "    \n",
    "\n",
    "m.update()"
   ]
  },
  {
   "cell_type": "code",
   "execution_count": 7,
   "metadata": {},
   "outputs": [],
   "source": [
    "\n",
    "# Add constraint: \n",
    "ctr=0;\n",
    "\n",
    "\n",
    "#A8\n",
    "m.addConstr( lPoint_x[0]==orig[0]);\n",
    "m.addConstr( lPoint_y[0]==orig[1] ); \n",
    "#A9\n",
    "m.addConstr( rPoint_x[0]==orig[0] ); \n",
    "m.addConstr( rPoint_y[0]==orig[1]); \n",
    "#A10\n",
    "m.addConstr( lPoint_x[n+1]==dest[0]); \n",
    "m.addConstr( lPoint_y[n+1]==dest[1] ); \n",
    "#A11\n",
    "m.addConstr( rPoint_x[n+1]==dest[0]); \n",
    "m.addConstr( rPoint_y[n+1]==dest[1]); \n",
    "\n",
    "for k in range(0, n+1):\n",
    "    #A2\n",
    "    ctr=ctr+1;\n",
    "    \n",
    "    Cx[ctr] = m.addVar(lb=-GRB.INFINITY,vtype = 'C',name='Cx.A2');\n",
    "    Cy[ctr] = m.addVar(lb=-GRB.INFINITY,vtype = 'C',name='Cy.A2');\n",
    "    C[ctr] = m.addVar(lb=0.0,vtype = 'C',name='C.A2');\n",
    "    \n",
    "    \n",
    "    m.addConstr( Cx[ctr]  == lPoint_x[k+1] - rPoint_x[k], 'A2x.1'); \n",
    "    m.addConstr( Cy[ctr]  == lPoint_y[k+1] - rPoint_y[k], 'A2y.1');\n",
    "    m.addQConstr( Cx[ctr]*Cx[ctr] + Cy[ctr]*Cy[ctr] <=  C[ctr]*C[ctr], 'A2.2');\n",
    "    m.addConstr( C[ctr]-cTime[k]   == 0, 'A2.3');\n",
    "    \n",
    "    #A3\n",
    "    ctr=ctr+1;\n",
    "    \n",
    "    Cx[ctr] = m.addVar(lb=-GRB.INFINITY,vtype = 'C',name='Cx.A3');\n",
    "    Cy[ctr] = m.addVar(lb=-GRB.INFINITY,vtype = 'C',name='Cy.A3');\n",
    "    C[ctr] = m.addVar(lb=0.0,vtype = 'C',name='C.A3');\n",
    "    \n",
    "    \n",
    "    m.addConstr( Cx[ctr]  == lPoint_x[k] - rPoint_x[k], 'A3x.1'); \n",
    "    m.addConstr( Cy[ctr]  == lPoint_y[k] - rPoint_y[k], 'A3y.1');\n",
    "    m.addQConstr( Cx[ctr]*Cx[ctr] + Cy[ctr]*Cy[ctr] <=  C[ctr]*C[ctr], 'A3.2');\n",
    "    m.addConstr( C[ctr]-sTime[k]   == 0, 'A3.3');\n",
    "    \n",
    "    \n",
    "    #A4\n",
    "    ctr=ctr+1;\n",
    "    \n",
    "    Cx[ctr] = m.addVar(lb=-GRB.INFINITY,vtype = 'C',name='Cx.A4');\n",
    "    Cy[ctr] = m.addVar(lb=-GRB.INFINITY,vtype = 'C',name='Cy.A4');\n",
    "    C[ctr] = m.addVar(lb=0.0,vtype = 'C',name='C.A4');\n",
    "    \n",
    "    \n",
    "    m.addConstr( Cx[ctr]  == Qx[k] - lPoint_x[k], 'A4x.1'); \n",
    "    m.addConstr( Cy[ctr]  == Qy[k] - lPoint_y[k], 'A4y.1');\n",
    "    m.addQConstr( Cx[ctr]*Cx[ctr] + Cy[ctr]*Cy[ctr] <=  C[ctr]*C[ctr], 'A4.2');\n",
    "    m.addConstr( C[ctr]-outFlightDist[k]   == 0, 'A4.3'); \n",
    "    \n",
    "    #A5\n",
    "    ctr=ctr+1;\n",
    "    \n",
    "    Cx[ctr] = m.addVar(lb=-GRB.INFINITY,vtype = 'C',name='Cx.A5');\n",
    "    Cy[ctr] = m.addVar(lb=-GRB.INFINITY,vtype = 'C',name='Cy.A5');\n",
    "    C[ctr] = m.addVar(lb=0.0,vtype = 'C',name='C.A5');\n",
    "    \n",
    "    \n",
    "    m.addConstr( Cx[ctr]  == Qx[k]- rPoint_x[k], 'A5x.1'); \n",
    "    m.addConstr( Cy[ctr]  == Qy[k] - rPoint_y[k], 'A5y.1');\n",
    "    m.addQConstr( Cx[ctr]*Cx[ctr] + Cy[ctr]*Cy[ctr] <=  C[ctr]*C[ctr], 'A5.2');\n",
    "    m.addConstr( C[ctr]-inFlightDist[k]   == 0, 'A5.3'); \n",
    "    \n",
    "    \n",
    "    #A6\n",
    "    m.addConstr( (outFlightDist[k] + inFlightDist[k])/alpha   <= sTime[k], 'A6'); \n",
    "    \n",
    "    #A7\n",
    "    m.addConstr( sTime[k]   <= R, 'A7'); \n",
    "    \n",
    "    \n",
    "    \n",
    "    ######\n",
    "for i in range(0, n+2):\n",
    "\n",
    "    \n",
    "        m.addConstr( Qx[i]  == quicksum(w[i,j]*s[j][0] for j in range(0,n+2)), 'C.8x.[%s]'%i); \n",
    "        m.addConstr( Qy[i]  == quicksum(w[i,j]*s[j][1] for j in range(0,n+2)), 'C.8y.[%s]'%i); \n",
    "    \n",
    "    \n",
    "        m.addConstr( quicksum(w[i,j] for j in range(0,n+2))  == 1, 'C.9.[%s]'%i); \n",
    "    \n",
    "for j in range(0, n+2):\n",
    "    \n",
    "     m.addConstr( quicksum(w[i,j] for i in range(0,n+2))  == 1, 'C.10.[%s]'%j);\n",
    "    \n",
    "    "
   ]
  },
  {
   "cell_type": "code",
   "execution_count": 8,
   "metadata": {},
   "outputs": [],
   "source": [
    "# Set objective:\n",
    "\n",
    "\n",
    "obj = quicksum((cTime[k]+sTime[k]) for k in range(0,n+2))\n",
    "\n",
    "m.setObjective(obj,GRB.MINIMIZE)"
   ]
  },
  {
   "cell_type": "code",
   "execution_count": 9,
   "metadata": {},
   "outputs": [
    {
     "name": "stdout",
     "output_type": "stream",
     "text": [
      "Optimize a model with 102 rows, 154 columns and 338 nonzeros\n",
      "Model has 20 quadratic constraints\n",
      "Variable types: 118 continuous, 36 integer (36 binary)\n",
      "Coefficient statistics:\n",
      "  Matrix range     [5e-01, 9e+01]\n",
      "  QMatrix range    [1e+00, 1e+00]\n",
      "  Objective range  [1e+00, 1e+00]\n",
      "  Bounds range     [1e+00, 1e+00]\n",
      "  RHS range        [1e+00, 2e+01]\n",
      "Presolve removed 54 rows and 62 columns\n",
      "Presolve time: 0.01s\n",
      "Presolved: 48 rows, 92 columns, 188 nonzeros\n",
      "Variable types: 63 continuous, 29 integer (25 binary)\n",
      "\n",
      "Root relaxation: objective 0.000000e+00, 22 iterations, 0.00 seconds\n",
      "\n",
      "    Nodes    |    Current Node    |     Objective Bounds      |     Work\n",
      " Expl Unexpl |  Obj  Depth IntInf | Incumbent    BestBd   Gap | It/Node Time\n",
      "\n",
      "H    0     0                     233.1372046    0.00000   100%     -    0s\n",
      "*    0     0               0     233.1372046    0.00000   100%     -    0s\n",
      "     0     0    0.00000    0    6  233.13720    0.00000   100%     -    0s\n",
      "     0     0   51.59074    0   17  233.13720   51.59074  77.9%     -    0s\n",
      "     0     0   58.15081    0   20  233.13720   58.15081  75.1%     -    0s\n",
      "     0     0   58.15239    0   21  233.13720   58.15239  75.1%     -    0s\n",
      "     0     0   62.47998    0   17  233.13720   62.47998  73.2%     -    0s\n",
      "     0     0   62.85805    0   17  233.13720   62.85805  73.0%     -    0s\n",
      "     0     0   62.85805    0   17  233.13720   62.85805  73.0%     -    0s\n",
      "H    0     0                     233.1372013   62.85805  73.0%     -    0s\n",
      "     0     2   62.85805    0   17  233.13720   62.85805  73.0%     -    0s\n",
      "H    4     6                     182.9506981   64.73770  64.6%  11.2    0s\n",
      "H   10     9                     140.4886027   65.40003  53.4%  26.4    0s\n",
      "*   10     9               4     140.4886027   65.40003  53.4%  27.1    0s\n",
      "H   15     7                     140.4885464   65.40003  53.4%  23.9    0s\n",
      "*   15     7               5     140.4885464   65.40003  53.4%  24.8    0s\n",
      "\n",
      "Cutting planes:\n",
      "  Implied bound: 4\n",
      "  MIR: 1\n",
      "\n",
      "Explored 117 nodes (2757 simplex iterations) in 0.24 seconds\n",
      "Thread count was 4 (of 4 available processors)\n",
      "\n",
      "Solution count 5: 140.489 140.489 182.951 ... 233.137\n",
      "\n",
      "Optimal solution found (tolerance 1.00e-04)\n",
      "Best objective 1.404885214953e+02, best bound 1.404836354900e+02, gap 0.0035%\n"
     ]
    }
   ],
   "source": [
    "m.optimize()"
   ]
  },
  {
   "cell_type": "code",
   "execution_count": 21,
   "metadata": {},
   "outputs": [
    {
     "data": {
      "text/plain": [
       "<function matplotlib.pyplot.show(*args, **kw)>"
      ]
     },
     "execution_count": 21,
     "metadata": {},
     "output_type": "execute_result"
    },
    {
     "data": {
      "image/png": "[encoded data removed]",
      "text/plain": [
       "<Figure size 432x288 with 1 Axes>"
      ]
     },
     "metadata": {
      "needs_background": "light"
     },
     "output_type": "display_data"
    }
   ],
   "source": [
    "import matplotlib.pyplot as plt\n",
    "plt.xlabel(\"x/km\")\n",
    "plt.ylabel(\"y/km\")\n",
    "\n",
    "#plt.plot([lPoint_x[1].X, orig[0]],[lPoint_y[1].X,  orig[1]], color= 'b')\n",
    "#plt.plot([rPoint_x[n].X, dest[0]],[rPoint_y[n].X,  dest[1]], color= 'b')\n",
    "\n",
    "for i in range(0,n+1):\n",
    "    plt.plot([lPoint_x[i].X, rPoint_x[i].X],[lPoint_y[i].X,  rPoint_y[i].X], color= 'b')\n",
    "    #if i<n:\n",
    "    plt.plot([lPoint_x[i+1].X, rPoint_x[i].X],[lPoint_y[i+1].X,  rPoint_y[i].X], color= 'b')\n",
    "    plt.plot([lPoint_x[i].X, Qx[i].X],[lPoint_y[i].X,  Qy[i].X],linestyle= '--')\n",
    "    plt.plot([Qx[i].X,  rPoint_x[i].X] ,[Qy[i].X,  rPoint_y[i].X],linestyle= '--')\n",
    "for i in range(0,n+1):\n",
    "    plt.plot(Qx[i].X, Qy[i].X, marker='*',color='r')\n",
    "\n",
    "    \n",
    "    #for i in range(1,n+1):\n",
    "    #plt.plot([Qx[i].X,  rPoint_x[i].X] ,[Qy[i].X,  rPoint_y[i].X],linestyle= '--')\n",
    "    #plt.plot([lPoint_x[i].X, Qx[i].X],[lPoint_y[i].X,  Qy[i].X],linestyle= '--')\n",
    "    #plt.plot(s[i][0], s[i][1], marker='*',color='r')\n",
    "\n",
    "plt.plot(s[0][0], s[0][1], marker='o',color='b')\n",
    "\n",
    "plt.show"
   ]
  },
  {
   "cell_type": "code",
   "execution_count": 11,
   "metadata": {},
   "outputs": [
    {
     "data": {
      "text/plain": [
       "{0: <gurobi.Var Qx[0] (value 10.0)>,\n",
       " 1: <gurobi.Var Qx[1] (value 90.0)>,\n",
       " 2: <gurobi.Var Qx[2] (value 90.0)>,\n",
       " 3: <gurobi.Var Qx[3] (value 50.0)>,\n",
       " 4: <gurobi.Var Qx[4] (value 10.0)>,\n",
       " 5: <gurobi.Var Qx[5] (value 10.0)>}"
      ]
     },
     "execution_count": 11,
     "metadata": {},
     "output_type": "execute_result"
    }
   ],
   "source": [
    "Qx"
   ]
  },
  {
   "cell_type": "code",
   "execution_count": 12,
   "metadata": {},
   "outputs": [
    {
     "data": {
      "text/plain": [
       "{0: <gurobi.Var Qy[0] (value 10.0)>,\n",
       " 1: <gurobi.Var Qy[1] (value 10.0)>,\n",
       " 2: <gurobi.Var Qy[2] (value 15.0)>,\n",
       " 3: <gurobi.Var Qy[3] (value 0.0)>,\n",
       " 4: <gurobi.Var Qy[4] (value 10.0)>,\n",
       " 5: <gurobi.Var Qy[5] (value 90.0)>}"
      ]
     },
     "execution_count": 12,
     "metadata": {},
     "output_type": "execute_result"
    }
   ],
   "source": [
    "Qy"
   ]
  },
  {
   "cell_type": "code",
   "execution_count": 13,
   "metadata": {},
   "outputs": [
    {
     "data": {
      "text/plain": [
       "{0: <gurobi.Var rPoint_x[0] (value 10.0)>,\n",
       " 1: <gurobi.Var rPoint_x[1] (value 80.17667700336695)>,\n",
       " 2: <gurobi.Var rPoint_x[2] (value 60.17688564733847)>,\n",
       " 3: <gurobi.Var rPoint_x[3] (value 41.52749148475417)>,\n",
       " 4: <gurobi.Var rPoint_x[4] (value 12.14757104807238)>,\n",
       " 5: <gurobi.Var rPoint_x[5] (value 10.0)>}"
      ]
     },
     "execution_count": 13,
     "metadata": {},
     "output_type": "execute_result"
    }
   ],
   "source": [
    "rPoint_x"
   ]
  },
  {
   "cell_type": "code",
   "execution_count": 14,
   "metadata": {},
   "outputs": [
    {
     "data": {
      "text/plain": [
       "{0: <gurobi.Var rPoint_y[0] (value 10.0)>,\n",
       " 1: <gurobi.Var rPoint_y[1] (value 12.725536380529487)>,\n",
       " 2: <gurobi.Var rPoint_y[2] (value 12.634214495771769)>,\n",
       " 3: <gurobi.Var rPoint_y[3] (value 11.655113588060443)>,\n",
       " 4: <gurobi.Var rPoint_y[4] (value 10.112769552829569)>,\n",
       " 5: <gurobi.Var rPoint_y[5] (value 10.0)>}"
      ]
     },
     "execution_count": 14,
     "metadata": {},
     "output_type": "execute_result"
    }
   ],
   "source": [
    "rPoint_y"
   ]
  },
  {
   "cell_type": "code",
   "execution_count": 15,
   "metadata": {},
   "outputs": [
    {
     "data": {
      "text/plain": [
       "{(0, 0): <gurobi.Var w[0,0] (value 0.0)>,\n",
       " (0, 1): <gurobi.Var w[0,1] (value 0.0)>,\n",
       " (0, 2): <gurobi.Var w[0,2] (value 0.0)>,\n",
       " (0, 3): <gurobi.Var w[0,3] (value 0.0)>,\n",
       " (0, 4): <gurobi.Var w[0,4] (value 0.0)>,\n",
       " (0, 5): <gurobi.Var w[0,5] (value 1.0)>,\n",
       " (1, 0): <gurobi.Var w[1,0] (value 0.0)>,\n",
       " (1, 1): <gurobi.Var w[1,1] (value 0.0)>,\n",
       " (1, 2): <gurobi.Var w[1,2] (value 0.0)>,\n",
       " (1, 3): <gurobi.Var w[1,3] (value 1.0)>,\n",
       " (1, 4): <gurobi.Var w[1,4] (value 0.0)>,\n",
       " (1, 5): <gurobi.Var w[1,5] (value 0.0)>,\n",
       " (2, 0): <gurobi.Var w[2,0] (value 0.0)>,\n",
       " (2, 1): <gurobi.Var w[2,1] (value 0.0)>,\n",
       " (2, 2): <gurobi.Var w[2,2] (value 1.0)>,\n",
       " (2, 3): <gurobi.Var w[2,3] (value 0.0)>,\n",
       " (2, 4): <gurobi.Var w[2,4] (value 0.0)>,\n",
       " (2, 5): <gurobi.Var w[2,5] (value 0.0)>,\n",
       " (3, 0): <gurobi.Var w[3,0] (value 0.0)>,\n",
       " (3, 1): <gurobi.Var w[3,1] (value 0.0)>,\n",
       " (3, 2): <gurobi.Var w[3,2] (value 0.0)>,\n",
       " (3, 3): <gurobi.Var w[3,3] (value 0.0)>,\n",
       " (3, 4): <gurobi.Var w[3,4] (value 1.0)>,\n",
       " (3, 5): <gurobi.Var w[3,5] (value 0.0)>,\n",
       " (4, 0): <gurobi.Var w[4,0] (value 1.0)>,\n",
       " (4, 1): <gurobi.Var w[4,1] (value 0.0)>,\n",
       " (4, 2): <gurobi.Var w[4,2] (value 0.0)>,\n",
       " (4, 3): <gurobi.Var w[4,3] (value 0.0)>,\n",
       " (4, 4): <gurobi.Var w[4,4] (value 0.0)>,\n",
       " (4, 5): <gurobi.Var w[4,5] (value 0.0)>,\n",
       " (5, 0): <gurobi.Var w[5,0] (value 0.0)>,\n",
       " (5, 1): <gurobi.Var w[5,1] (value 1.0)>,\n",
       " (5, 2): <gurobi.Var w[5,2] (value 0.0)>,\n",
       " (5, 3): <gurobi.Var w[5,3] (value 0.0)>,\n",
       " (5, 4): <gurobi.Var w[5,4] (value 0.0)>,\n",
       " (5, 5): <gurobi.Var w[5,5] (value 0.0)>}"
      ]
     },
     "execution_count": 15,
     "metadata": {},
     "output_type": "execute_result"
    }
   ],
   "source": [
    "w"
   ]
  },
  {
   "cell_type": "code",
   "execution_count": 16,
   "metadata": {},
   "outputs": [
    {
     "data": {
      "text/plain": [
       "{0: <gurobi.Var Qx[0] (value 10.0)>,\n",
       " 1: <gurobi.Var Qx[1] (value 90.0)>,\n",
       " 2: <gurobi.Var Qx[2] (value 90.0)>,\n",
       " 3: <gurobi.Var Qx[3] (value 50.0)>,\n",
       " 4: <gurobi.Var Qx[4] (value 10.0)>,\n",
       " 5: <gurobi.Var Qx[5] (value 10.0)>}"
      ]
     },
     "execution_count": 16,
     "metadata": {},
     "output_type": "execute_result"
    }
   ],
   "source": [
    "Qx"
   ]
  },
  {
   "cell_type": "code",
   "execution_count": null,
   "metadata": {},
   "outputs": [],
   "source": []
  }
 ],
 "metadata": {
  "kernelspec": {
   "display_name": "Python 3",
   "language": "python",
   "name": "python3"
  },
  "language_info": {
   "codemirror_mode": {
    "name": "ipython",
    "version": 3
   },
   "file_extension": ".py",
   "mimetype": "text/x-python",
   "name": "python",
   "nbconvert_exporter": "python",
   "pygments_lexer": "ipython3",
   "version": "3.6.7"
  }
 },
 "nbformat": 4,
 "nbformat_minor": 2
}
