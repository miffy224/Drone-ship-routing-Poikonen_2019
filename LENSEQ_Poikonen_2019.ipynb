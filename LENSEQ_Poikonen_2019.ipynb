{
 "cells": [
  {
   "cell_type": "code",
   "execution_count": 29,
   "metadata": {},
   "outputs": [],
   "source": [
    "from gurobipy import *\n",
    "from math import * "
   ]
  },
  {
   "cell_type": "code",
   "execution_count": 30,
   "metadata": {},
   "outputs": [],
   "source": [
    "\"\"\"\n",
    "\n",
    "Poikonen, S., & Golden, B. (2020). \n",
    "The mothership and drone routing problem. \n",
    "INFORMS Journal on Computing, 32(2), 249-262.\n",
    "\n",
    "https://drive.google.com/file/d/1C_4_F6HzwCA3upkeWnZ0CWkMoHHefzy5/view\n",
    "\n",
    "\"\"\"\n",
    "\n",
    "\n",
    "n=2"
   ]
  },
  {
   "cell_type": "code",
   "execution_count": 31,
   "metadata": {},
   "outputs": [],
   "source": [
    "#s=((10,10),(10,90),(90,15),(90,10),(50,0),(10,10));\n",
    "s=((0,0),(0,40),(0,50),(1,49),(46,50),(48,48),(46,46),(50,48),(50,35),(30,5),(30,0));\n",
    "\n",
    "orig=(0,0)\n",
    "dest=(50,0)\n",
    "R=0.35\n",
    "alpha=5\n",
    "Vv=90\n",
    "Vc=18"
   ]
  },
  {
   "cell_type": "code",
   "execution_count": null,
   "metadata": {},
   "outputs": [],
   "source": []
  },
  {
   "cell_type": "code",
   "execution_count": null,
   "metadata": {},
   "outputs": [],
   "source": []
  },
  {
   "cell_type": "code",
   "execution_count": 32,
   "metadata": {},
   "outputs": [],
   "source": [
    "# Create a new model\n",
    "m = Model(\"Poikonen_2019\")"
   ]
  },
  {
   "cell_type": "code",
   "execution_count": 33,
   "metadata": {},
   "outputs": [],
   "source": [
    "# Create variables\n",
    "\n",
    "cTime = {};\n",
    "sTime = {};\n",
    "\n",
    "lPoint_x= {};\n",
    "lPoint_y= {};\n",
    "\n",
    "rPoint_x= {};\n",
    "rPoint_y= {};\n",
    "\n",
    "\n",
    "outFlightDist = {};\n",
    "inFlightDist = {};\n",
    "\n",
    "#for SOCP\n",
    "Cx= {};\n",
    "Cy= {};\n",
    "C= {};\n"
   ]
  },
  {
   "cell_type": "code",
   "execution_count": 34,
   "metadata": {},
   "outputs": [],
   "source": [
    "for i in range(0, n+1):\n",
    "    \n",
    "    \n",
    "    outFlightDist[i] = m.addVar(lb=0.0,vtype = 'C',name='outFlightDist[%s]'%i);\n",
    "    inFlightDist[i] = m.addVar(lb=0.0,vtype = 'C',name='inFlightDist[%s]'%i);\n",
    "    \n",
    "\n",
    "    \n",
    "\n",
    "for i in range(0, n+2):\n",
    "    lPoint_x[i] = m.addVar(vtype = 'C',name='lPoint_x[%s]'%i);\n",
    "    lPoint_y[i] = m.addVar(vtype = 'C',name='lPoint_y[%s]'%i);\n",
    "    \n",
    "    rPoint_x[i] = m.addVar(vtype = 'C',name='rPoint_x[%s]'%i);\n",
    "    rPoint_y[i] = m.addVar(vtype = 'C',name='rPoint_y[%s]'%i);\n",
    "    \n",
    "    cTime[i] = m.addVar(lb=0.0,vtype = 'C',name='cTime[%s]'%i);\n",
    "    \n",
    "    sTime[i] = m.addVar(lb=0.0,vtype = 'C',name='sTime[%s]'%i);\n",
    "    \n",
    "\n",
    "m.update()"
   ]
  },
  {
   "cell_type": "code",
   "execution_count": 35,
   "metadata": {},
   "outputs": [],
   "source": [
    "\n",
    "# Add constraint: \n",
    "ctr=0;\n",
    "\n",
    "\n",
    "#A8\n",
    "m.addConstr( lPoint_x[0]==orig[0]);\n",
    "m.addConstr( lPoint_y[0]==orig[1] ); \n",
    "#A9\n",
    "m.addConstr( rPoint_x[0]==orig[0] ); \n",
    "m.addConstr( rPoint_y[0]==orig[1]); \n",
    "#A10\n",
    "m.addConstr( lPoint_x[n+1]==dest[0]); \n",
    "m.addConstr( lPoint_y[n+1]==dest[1] ); \n",
    "#A11\n",
    "m.addConstr( rPoint_x[n+1]==dest[0]); \n",
    "m.addConstr( rPoint_y[n+1]==dest[1]); \n",
    "\n",
    "for k in range(0, n+1):\n",
    "    #A2\n",
    "    ctr=ctr+1;\n",
    "    \n",
    "    Cx[ctr] = m.addVar(lb=-GRB.INFINITY,vtype = 'C',name='Cx.A2');\n",
    "    Cy[ctr] = m.addVar(lb=-GRB.INFINITY,vtype = 'C',name='Cy.A2');\n",
    "    C[ctr] = m.addVar(lb=0.0,vtype = 'C',name='C.A2');\n",
    "    \n",
    "    \n",
    "    m.addConstr( Cx[ctr]  == lPoint_x[k+1] - rPoint_x[k], 'A2x.1'); \n",
    "    m.addConstr( Cy[ctr]  == lPoint_y[k+1] - rPoint_y[k], 'A2y.1');\n",
    "    m.addQConstr( Cx[ctr]*Cx[ctr] + Cy[ctr]*Cy[ctr] <=  C[ctr]*C[ctr], 'A2.2');\n",
    "    m.addConstr( C[ctr]-Vc*cTime[k]   == 0, 'A2.3');\n",
    "    \n",
    "    #A3\n",
    "    ctr=ctr+1;\n",
    "    \n",
    "    Cx[ctr] = m.addVar(lb=-GRB.INFINITY,vtype = 'C',name='Cx.A3');\n",
    "    Cy[ctr] = m.addVar(lb=-GRB.INFINITY,vtype = 'C',name='Cy.A3');\n",
    "    C[ctr] = m.addVar(lb=0.0,vtype = 'C',name='C.A3');\n",
    "    \n",
    "    \n",
    "    m.addConstr( Cx[ctr]  == lPoint_x[k] - rPoint_x[k], 'A3x.1'); \n",
    "    m.addConstr( Cy[ctr]  == lPoint_y[k] - rPoint_y[k], 'A3y.1');\n",
    "    m.addQConstr( Cx[ctr]*Cx[ctr] + Cy[ctr]*Cy[ctr] <=  C[ctr]*C[ctr], 'A3.2');\n",
    "    m.addConstr( C[ctr]-Vc*sTime[k]   == 0, 'A3.3');\n",
    "    \n",
    "    \n",
    "    #A4\n",
    "    ctr=ctr+1;\n",
    "    \n",
    "    Cx[ctr] = m.addVar(lb=-GRB.INFINITY,vtype = 'C',name='Cx.A4');\n",
    "    Cy[ctr] = m.addVar(lb=-GRB.INFINITY,vtype = 'C',name='Cy.A4');\n",
    "    C[ctr] = m.addVar(lb=0.0,vtype = 'C',name='C.A4');\n",
    "    \n",
    "    \n",
    "    m.addConstr( Cx[ctr]  == s[k][0] - lPoint_x[k], 'A4x.1'); \n",
    "    m.addConstr( Cy[ctr]  == s[k][1] - lPoint_y[k], 'A4y.1');\n",
    "    m.addQConstr( Cx[ctr]*Cx[ctr] + Cy[ctr]*Cy[ctr] <=  C[ctr]*C[ctr], 'A4.2');\n",
    "    m.addConstr( C[ctr]-Vv*outFlightDist[k]   == 0, 'A4.3'); \n",
    "    \n",
    "    #A5\n",
    "    ctr=ctr+1;\n",
    "    \n",
    "    Cx[ctr] = m.addVar(lb=-GRB.INFINITY,vtype = 'C',name='Cx.A5');\n",
    "    Cy[ctr] = m.addVar(lb=-GRB.INFINITY,vtype = 'C',name='Cy.A5');\n",
    "    C[ctr] = m.addVar(lb=0.0,vtype = 'C',name='C.A5');\n",
    "    \n",
    "    \n",
    "    m.addConstr( Cx[ctr]  == s[k][0] - rPoint_x[k], 'A5x.1'); \n",
    "    m.addConstr( Cy[ctr]  == s[k][1] - rPoint_y[k], 'A5y.1');\n",
    "    m.addQConstr( Cx[ctr]*Cx[ctr] + Cy[ctr]*Cy[ctr] <=  C[ctr]*C[ctr], 'A5.2');\n",
    "    m.addConstr( C[ctr]-Vv*inFlightDist[k]   == 0, 'A5.3'); \n",
    "    \n",
    "    \n",
    "    #A6\n",
    "    #m.addConstr( (outFlightDist[k] + inFlightDist[k])/alpha   <= sTime[k], 'A6'); \n",
    "    m.addConstr( (outFlightDist[k] + inFlightDist[k])  <= sTime[k], 'A6'); \n",
    "    \n",
    "    #A7\n",
    "    m.addConstr( sTime[k]   <= R, 'A7'); \n",
    "    \n",
    "    \n",
    "    \n",
    "    \n",
    "    \n",
    "    "
   ]
  },
  {
   "cell_type": "code",
   "execution_count": 36,
   "metadata": {},
   "outputs": [],
   "source": [
    "# Set objective:\n",
    "\n",
    "\n",
    "obj = quicksum((cTime[k]+sTime[k]) for k in range(0,n+2))\n",
    "\n",
    "m.setObjective(obj,GRB.MINIMIZE)"
   ]
  },
  {
   "cell_type": "code",
   "execution_count": 37,
   "metadata": {},
   "outputs": [
    {
     "name": "stdout",
     "output_type": "stream",
     "text": [
      "Optimize a model with 50 rows, 66 columns and 104 nonzeros\n",
      "Optimize a model with 50 rows, 66 columns and 104 nonzeros\n",
      "Model has 12 quadratic constraints\n",
      "Model has 12 quadratic constraints\n",
      "Coefficient statistics:\n",
      "Coefficient statistics:\n",
      "  Matrix range     [1e+00, 9e+01]\n",
      "  Matrix range     [1e+00, 9e+01]\n",
      "  QMatrix range    [1e+00, 1e+00]\n",
      "  QMatrix range    [1e+00, 1e+00]\n",
      "  Objective range  [1e+00, 1e+00]\n",
      "  Objective range  [1e+00, 1e+00]\n",
      "  Bounds range     [0e+00, 0e+00]\n",
      "  Bounds range     [0e+00, 0e+00]\n",
      "  RHS range        [3e-01, 5e+01]\n",
      "  RHS range        [3e-01, 5e+01]\n",
      "Presolve removed 37 rows and 36 columns\n",
      "Presolve removed 37 rows and 36 columns\n",
      "Presolve time: 0.02s\n",
      "Presolve time: 0.02s\n",
      "Presolved: 23 rows, 30 columns, 45 nonzeros\n",
      "Presolved: 23 rows, 30 columns, 45 nonzeros\n",
      "Presolved model has 9 second-order cone constraints\n",
      "Presolved model has 9 second-order cone constraints\n",
      "Ordering time: 0.00s\n",
      "Ordering time: 0.00s\n",
      "\n",
      "\n",
      "Barrier statistics:\n",
      "Barrier statistics:\n",
      " AA' NZ     : 7.900e+01\n",
      " AA' NZ     : 7.900e+01\n",
      " Factor NZ  : 2.540e+02\n",
      " Factor NZ  : 2.540e+02\n",
      " Factor Ops : 3.796e+03 (less than 1 second per iteration)\n",
      " Factor Ops : 3.796e+03 (less than 1 second per iteration)\n",
      " Threads    : 1\n",
      " Threads    : 1\n",
      "\n",
      "\n",
      "                  Objective                Residual\n",
      "                  Objective                Residual\n",
      "Iter       Primal          Dual         Primal    Dual     Compl     Time\n",
      "Iter       Primal          Dual         Primal    Dual     Compl     Time\n",
      "   0   4.56739925e+01  6.44985935e-02  8.89e+01 2.11e-01  1.22e+01     0s\n",
      "   0   4.56739925e+01  6.44985935e-02  8.89e+01 2.11e-01  1.22e+01     0s\n",
      "   1   2.03207921e+01 -8.57999586e+00  2.17e+01 1.71e-02  1.74e+00     0s\n",
      "   1   2.03207921e+01 -8.57999586e+00  2.17e+01 1.71e-02  1.74e+00     0s\n",
      "   2   7.27660938e+00 -2.51490332e+00  3.69e+00 1.88e-08  3.30e-01     0s\n",
      "   2   7.27660938e+00 -2.51490332e+00  3.69e+00 1.88e-08  3.30e-01     0s\n",
      "   3   6.05437946e+00  3.41304747e+00  2.31e-01 1.34e-09  6.62e-02     0s\n",
      "   3   6.05437946e+00  3.41304747e+00  2.31e-01 1.34e-09  6.62e-02     0s\n",
      "   4   5.70055529e+00  4.42349904e+00  2.94e-02 6.28e-10  2.98e-02     0s\n",
      "   4   5.70055529e+00  4.42349904e+00  2.94e-02 6.28e-10  2.98e-02     0s\n",
      "   5   5.44776647e+00  5.00715654e+00  4.17e-03 2.15e-10  1.02e-02     0s\n",
      "   5   5.44776647e+00  5.00715654e+00  4.17e-03 2.15e-10  1.02e-02     0s\n",
      "   6   5.37140453e+00  5.27847084e+00  5.12e-13 3.30e-11  2.13e-03     0s\n",
      "   6   5.37140453e+00  5.27847084e+00  5.12e-13 3.30e-11  2.13e-03     0s\n",
      "   7   5.36876382e+00  5.33515399e+00  1.22e-10 1.83e-12  7.64e-04     0s\n",
      "   7   5.36876382e+00  5.33515399e+00  1.22e-10 1.83e-12  7.64e-04     0s\n",
      "   8   5.35145138e+00  5.34773868e+00  5.78e-11 8.81e-16  8.44e-05     0s\n",
      "   8   5.35145138e+00  5.34773868e+00  5.78e-11 8.81e-16  8.44e-05     0s\n",
      "   9   5.34973422e+00  5.34954954e+00  3.28e-11 2.78e-16  4.20e-06     0s\n",
      "   9   5.34973422e+00  5.34954954e+00  3.28e-11 2.78e-16  4.20e-06     0s\n",
      "  10   5.34963617e+00  5.34962975e+00  3.36e-10 1.46e-14  1.46e-07     0s\n",
      "  10   5.34963617e+00  5.34962975e+00  3.36e-10 1.46e-14  1.46e-07     0s\n",
      "  11   5.34963290e+00  5.34963273e+00  2.97e-09 5.00e-13  3.79e-09     0s\n",
      "  11   5.34963290e+00  5.34963273e+00  2.97e-09 5.00e-13  3.79e-09     0s\n",
      "\n",
      "\n",
      "Barrier solved model in 11 iterations and 0.05 seconds\n",
      "Barrier solved model in 11 iterations and 0.05 seconds\n",
      "Optimal objective 5.34963290e+00\n",
      "Optimal objective 5.34963290e+00\n",
      "\n",
      "\n"
     ]
    }
   ],
   "source": [
    "m.optimize()"
   ]
  },
  {
   "cell_type": "code",
   "execution_count": 38,
   "metadata": {},
   "outputs": [
    {
     "name": "stdout",
     "output_type": "stream",
     "text": [
      "t_m: 5.349632896880541 hours\n",
      "\n",
      "t_m: 5.349632896880541 hours\n",
      "\n"
     ]
    },
    {
     "data": {
      "text/plain": [
       "<function matplotlib.pyplot.show(*args, **kw)>"
      ]
     },
     "execution_count": 38,
     "metadata": {},
     "output_type": "execute_result"
    },
    {
     "data": {
      "text/plain": [
       "<function matplotlib.pyplot.show(*args, **kw)>"
      ]
     },
     "execution_count": 38,
     "metadata": {},
     "output_type": "execute_result"
    },
    {
     "data": {
      "image/png": "[encoded data removed]",
      "text/plain": [
       "<Figure size 432x288 with 1 Axes>"
      ]
     },
     "metadata": {
      "needs_background": "light"
     },
     "output_type": "display_data"
    },
    {
     "data": {
      "image/png": "[encoded data removed]",
      "text/plain": [
       "<Figure size 432x288 with 1 Axes>"
      ]
     },
     "metadata": {
      "needs_background": "light"
     },
     "output_type": "display_data"
    }
   ],
   "source": [
    "obj = m.getObjective()\n",
    "print(\"t_m:\",obj.getValue(),\"hours\\n\")\n",
    "import matplotlib.pyplot as plt\n",
    "plt.xlabel(\"x/km\")\n",
    "plt.ylabel(\"y/km\")\n",
    "\n",
    "plt.plot([lPoint_x[1].X, orig[0]],[lPoint_y[1].X,  orig[1]], color= 'b')\n",
    "plt.plot([rPoint_x[n].X, dest[0]],[rPoint_y[n].X,  dest[1]], color= 'b')\n",
    "\n",
    "for i in range(1,n+1):\n",
    "    plt.plot([lPoint_x[i].X, rPoint_x[i].X],[lPoint_y[i].X,  rPoint_y[i].X], color= 'b')\n",
    "    if i<n:\n",
    "        plt.plot([lPoint_x[i+1].X, rPoint_x[i].X],[lPoint_y[i+1].X,  rPoint_y[i].X], color= 'b')\n",
    "\n",
    "\n",
    "for i in range(1,n+1):\n",
    "    plt.plot([s[i][0] ,  rPoint_x[i].X] ,[s[i][1],  rPoint_y[i].X],linestyle= '--')\n",
    "    plt.plot([lPoint_x[i].X, s[i][0]],[lPoint_y[i].X,  s[i][1]],linestyle= '--')\n",
    "    plt.plot(s[i][0], s[i][1], marker='*',color='r')\n",
    "\n",
    "plt.plot(s[0][0], s[0][1], marker='o',color='b')\n",
    "plt.show"
   ]
  },
  {
   "cell_type": "code",
   "execution_count": 39,
   "metadata": {},
   "outputs": [
    {
     "data": {
      "text/plain": [
       "{0: <gurobi.Var lPoint_x[0] (value 0.0)>,\n",
       " 1: <gurobi.Var lPoint_x[1] (value 2.3738618202967254)>,\n",
       " 2: <gurobi.Var lPoint_x[2] (value 2.8116398086532923)>,\n",
       " 3: <gurobi.Var lPoint_x[3] (value 50.0)>}"
      ]
     },
     "execution_count": 39,
     "metadata": {},
     "output_type": "execute_result"
    },
    {
     "data": {
      "text/plain": [
       "{0: <gurobi.Var lPoint_x[0] (value 0.0)>,\n",
       " 1: <gurobi.Var lPoint_x[1] (value 2.3738618202967254)>,\n",
       " 2: <gurobi.Var lPoint_x[2] (value 2.8116398086532923)>,\n",
       " 3: <gurobi.Var lPoint_x[3] (value 50.0)>}"
      ]
     },
     "execution_count": 39,
     "metadata": {},
     "output_type": "execute_result"
    }
   ],
   "source": [
    "lPoint_x"
   ]
  },
  {
   "cell_type": "code",
   "execution_count": 40,
   "metadata": {},
   "outputs": [
    {
     "data": {
      "text/plain": [
       "{0: <gurobi.Var lPoint_y[0] (value 0.0)>,\n",
       " 1: <gurobi.Var lPoint_y[1] (value 29.13001468075684)>,\n",
       " 2: <gurobi.Var lPoint_y[2] (value 34.50353681387974)>,\n",
       " 3: <gurobi.Var lPoint_y[3] (value 0.0)>}"
      ]
     },
     "execution_count": 40,
     "metadata": {},
     "output_type": "execute_result"
    },
    {
     "data": {
      "text/plain": [
       "{0: <gurobi.Var lPoint_y[0] (value 0.0)>,\n",
       " 1: <gurobi.Var lPoint_y[1] (value 29.13001468075684)>,\n",
       " 2: <gurobi.Var lPoint_y[2] (value 34.50353681387974)>,\n",
       " 3: <gurobi.Var lPoint_y[3] (value 0.0)>}"
      ]
     },
     "execution_count": 40,
     "metadata": {},
     "output_type": "execute_result"
    }
   ],
   "source": [
    "lPoint_y"
   ]
  },
  {
   "cell_type": "code",
   "execution_count": 41,
   "metadata": {},
   "outputs": [
    {
     "data": {
      "text/plain": [
       "{0: <gurobi.Var rPoint_x[0] (value 0.0)>,\n",
       " 1: <gurobi.Var rPoint_x[1] (value 2.788430912786014)>,\n",
       " 2: <gurobi.Var rPoint_x[2] (value 8.660643556077801)>,\n",
       " 3: <gurobi.Var rPoint_x[3] (value 50.0)>}"
      ]
     },
     "execution_count": 41,
     "metadata": {},
     "output_type": "execute_result"
    },
    {
     "data": {
      "text/plain": [
       "{0: <gurobi.Var rPoint_x[0] (value 0.0)>,\n",
       " 1: <gurobi.Var rPoint_x[1] (value 2.788430912786014)>,\n",
       " 2: <gurobi.Var rPoint_x[2] (value 8.660643556077801)>,\n",
       " 3: <gurobi.Var rPoint_x[3] (value 50.0)>}"
      ]
     },
     "execution_count": 41,
     "metadata": {},
     "output_type": "execute_result"
    }
   ],
   "source": [
    "rPoint_x"
   ]
  },
  {
   "cell_type": "code",
   "execution_count": 42,
   "metadata": {},
   "outputs": [
    {
     "data": {
      "text/plain": [
       "{0: <gurobi.Var rPoint_y[0] (value 0.0)>,\n",
       " 1: <gurobi.Var rPoint_y[1] (value 34.218697676845935)>,\n",
       " 2: <gurobi.Var rPoint_y[2] (value 36.844295599801804)>,\n",
       " 3: <gurobi.Var rPoint_y[3] (value 0.0)>}"
      ]
     },
     "execution_count": 42,
     "metadata": {},
     "output_type": "execute_result"
    },
    {
     "data": {
      "text/plain": [
       "{0: <gurobi.Var rPoint_y[0] (value 0.0)>,\n",
       " 1: <gurobi.Var rPoint_y[1] (value 34.218697676845935)>,\n",
       " 2: <gurobi.Var rPoint_y[2] (value 36.844295599801804)>,\n",
       " 3: <gurobi.Var rPoint_y[3] (value 0.0)>}"
      ]
     },
     "execution_count": 42,
     "metadata": {},
     "output_type": "execute_result"
    }
   ],
   "source": [
    "rPoint_y"
   ]
  },
  {
   "cell_type": "code",
   "execution_count": null,
   "metadata": {},
   "outputs": [],
   "source": []
  }
 ],
 "metadata": {
  "kernelspec": {
   "display_name": "Python 3",
   "language": "python",
   "name": "python3"
  },
  "language_info": {
   "codemirror_mode": {
    "name": "ipython",
    "version": 3
   },
   "file_extension": ".py",
   "mimetype": "text/x-python",
   "name": "python",
   "nbconvert_exporter": "python",
   "pygments_lexer": "ipython3",
   "version": "3.6.7"
  }
 },
 "nbformat": 4,
 "nbformat_minor": 2
}
