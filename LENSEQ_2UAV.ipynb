{
 "cells": [
  {
   "cell_type": "code",
   "execution_count": 1,
   "metadata": {},
   "outputs": [],
   "source": [
    "from gurobipy import *\n",
    "from math import * \n",
    "import numpy as np"
   ]
  },
  {
   "cell_type": "code",
   "execution_count": 2,
   "metadata": {},
   "outputs": [],
   "source": [
    "\"\"\"\n",
    "\n",
    "Poikonen, S., & Golden, B. (2020). \n",
    "The mothership and drone routing problem. \n",
    "INFORMS Journal on Computing, 32(2), 249-262.\n",
    "\n",
    "https://drive.google.com/file/d/1C_4_F6HzwCA3upkeWnZ0CWkMoHHefzy5/view\n",
    "\n",
    "\"\"\"\n",
    "\n",
    "\n",
    "n=2"
   ]
  },
  {
   "cell_type": "code",
   "execution_count": 3,
   "metadata": {},
   "outputs": [],
   "source": [
    "s=((14.2, 14.49), (1, 8), (2, 24),(1,49),(46,50),(48,48),(46,46),(50,48),(50,35),(30,5),(30,0));\n",
    "\n",
    "# (26, 17), (35, 21)\n",
    "# (4, 18), (27, 25)\n",
    "# (1, 8), (2, 24)\n",
    "orig=(14.2, 14.49)\n",
    "\n",
    "dest=(16.06, 31.98)\n",
    "R=20\n",
    "alpha=2\n",
    "epsilon=0.000001"
   ]
  },
  {
   "cell_type": "code",
   "execution_count": null,
   "metadata": {},
   "outputs": [],
   "source": []
  },
  {
   "cell_type": "code",
   "execution_count": null,
   "metadata": {},
   "outputs": [],
   "source": []
  },
  {
   "cell_type": "code",
   "execution_count": 4,
   "metadata": {},
   "outputs": [
    {
     "name": "stdout",
     "output_type": "stream",
     "text": [
      "Academic license - for non-commercial use only\n",
      "Academic license - for non-commercial use only\n"
     ]
    }
   ],
   "source": [
    "# Create a new model\n",
    "m = Model(\"Poikonen_2019\")"
   ]
  },
  {
   "cell_type": "code",
   "execution_count": 5,
   "metadata": {},
   "outputs": [],
   "source": [
    "# Create variables\n",
    "\n",
    "cTime = {};\n",
    "sTime = {};\n",
    "\n",
    "lPoint_x= {};\n",
    "lPoint_y= {};\n",
    "\n",
    "rPoint_x= {};\n",
    "rPoint_y= {};\n",
    "\n",
    "\n",
    "outFlightDist = {};\n",
    "inFlightDist = {};\n",
    "\n",
    "#for SOCP\n",
    "Cx= {};\n",
    "Cy= {};\n",
    "C= {};\n",
    "\n",
    "\n",
    "\n",
    "w = {};"
   ]
  },
  {
   "cell_type": "code",
   "execution_count": 6,
   "metadata": {},
   "outputs": [],
   "source": [
    "\n",
    "\n",
    "for i in range(0, n+1):\n",
    "    \n",
    "    \n",
    "    outFlightDist[i] = m.addVar(lb=0.0,vtype = 'C',name='outFlightDist[%s]'%i);\n",
    "    inFlightDist[i] = m.addVar(lb=0.0,vtype = 'C',name='inFlightDist[%s]'%i);\n",
    "    \n",
    "\n",
    "    \n",
    "\n",
    "for i in range(0, n+2):\n",
    "    lPoint_x[i] = m.addVar(vtype = 'C',name='lPoint_x[%s]'%i);\n",
    "    lPoint_y[i] = m.addVar(vtype = 'C',name='lPoint_y[%s]'%i);\n",
    "    \n",
    "    rPoint_x[i] = m.addVar(vtype = 'C',name='rPoint_x[%s]'%i);\n",
    "    rPoint_y[i] = m.addVar(vtype = 'C',name='rPoint_y[%s]'%i);\n",
    "    \n",
    "    cTime[i] = m.addVar(lb=0.0,vtype = 'C',name='cTime[%s]'%i);\n",
    "    \n",
    "    sTime[i] = m.addVar(lb=0.0,vtype = 'C',name='sTime[%s]'%i);\n",
    "    w[i] = m.addVar(lb=0.0,vtype = 'C',name='waitingTime[%s]'%i);\n",
    "\n",
    "m.update()"
   ]
  },
  {
   "cell_type": "markdown",
   "metadata": {},
   "source": [
    "# Add constraint"
   ]
  },
  {
   "cell_type": "code",
   "execution_count": 7,
   "metadata": {},
   "outputs": [],
   "source": [
    "\n",
    "# Add constraint: \n",
    "ctr=0;\n",
    "\n",
    "\n",
    "\n",
    "m.addConstr( w[0]==0);\n",
    "#m.addConstr( w[n+1]==0);\n",
    "#A8\n",
    "m.addConstr( lPoint_x[0]==orig[0]);\n",
    "m.addConstr( lPoint_y[0]==orig[1] ); \n",
    "#A9\n",
    "m.addConstr( rPoint_x[0]==orig[0] ); \n",
    "m.addConstr( rPoint_y[0]==orig[1]); \n",
    "#A10\n",
    "m.addConstr( lPoint_x[n+1]==dest[0]); \n",
    "m.addConstr( lPoint_y[n+1]==dest[1] ); \n",
    "#A11\n",
    "m.addConstr( rPoint_x[n+1]==dest[0]); \n",
    "m.addConstr( rPoint_y[n+1]==dest[1]); \n",
    "\n",
    "for k in range(0, n+1):\n",
    "    #A2\n",
    "    \n",
    "    \n",
    "    #FOR ABBA\n",
    "    if k==1:\n",
    "        ctr=ctr+1;\n",
    "    \n",
    "        Cx[ctr] = m.addVar(lb=-GRB.INFINITY,vtype = 'C',name='Cx.A2');\n",
    "        Cy[ctr] = m.addVar(lb=-GRB.INFINITY,vtype = 'C',name='Cy.A2');\n",
    "        C[ctr] = m.addVar(lb=0.0,vtype = 'C',name='C.A2');\n",
    "    \n",
    "    \n",
    "        m.addConstr( Cx[ctr]  == rPoint_x[2] - rPoint_x[1], 'A2x.1'); \n",
    "        m.addConstr( Cy[ctr]  == rPoint_y[2] - rPoint_y[1], 'A2y.1');\n",
    "        m.addQConstr( Cx[ctr]*Cx[ctr] + Cy[ctr]*Cy[ctr] <=  C[ctr]*C[ctr], 'A2.2');\n",
    "        m.addConstr( C[ctr]+sTime[2]-cTime[1]  == 0, 'A2.3');\n",
    "        \n",
    "        \n",
    "    else:\n",
    "        ctr=ctr+1;\n",
    "    \n",
    "        Cx[ctr] = m.addVar(lb=-GRB.INFINITY,vtype = 'C',name='Cx.A2');\n",
    "        Cy[ctr] = m.addVar(lb=-GRB.INFINITY,vtype = 'C',name='Cy.A2');\n",
    "        C[ctr] = m.addVar(lb=0.0,vtype = 'C',name='C.A2');\n",
    "    \n",
    "    \n",
    "        m.addConstr( Cx[ctr]  == lPoint_x[k+1] - rPoint_x[k], 'A2x.1'); \n",
    "        m.addConstr( Cy[ctr]  == lPoint_y[k+1] - rPoint_y[k], 'A2y.1');\n",
    "        m.addQConstr( Cx[ctr]*Cx[ctr] + Cy[ctr]*Cy[ctr] <=  C[ctr]*C[ctr], 'A2.2');\n",
    "        m.addConstr( C[ctr]-cTime[k]   == 0, 'A2.3');\n",
    "    \"\"\"\n",
    "    \n",
    "    ctr=ctr+1;\n",
    "    \n",
    "    Cx[ctr] = m.addVar(lb=-GRB.INFINITY,vtype = 'C',name='Cx.A2');\n",
    "    Cy[ctr] = m.addVar(lb=-GRB.INFINITY,vtype = 'C',name='Cy.A2');\n",
    "    C[ctr] = m.addVar(lb=0.0,vtype = 'C',name='C.A2');\n",
    "    \n",
    "    \n",
    "    m.addConstr( Cx[ctr]  == lPoint_x[k+1] - rPoint_x[k], 'A2x.1'); \n",
    "    m.addConstr( Cy[ctr]  == lPoint_y[k+1] - rPoint_y[k], 'A2y.1');\n",
    "    m.addQConstr( Cx[ctr]*Cx[ctr] + Cy[ctr]*Cy[ctr] <=  C[ctr]*C[ctr], 'A2.2');\n",
    "    m.addConstr( C[ctr]-cTime[k]   == 0, 'A2.3');\n",
    "    \n",
    "    \"\"\"\n",
    "    \n",
    "    \n",
    "    #A3\n",
    "    \"\"\"\n",
    "    #FOR ABAB\n",
    "    if k==1:\n",
    "        ctr=ctr+1;\n",
    "    \n",
    "        Cx[ctr] = m.addVar(lb=-GRB.INFINITY,vtype = 'C',name='Cx.A3.1');\n",
    "        Cy[ctr] = m.addVar(lb=-GRB.INFINITY,vtype = 'C',name='Cy.A3.1');\n",
    "        C[ctr] = m.addVar(lb=0.0,vtype = 'C',name='C.A3.1');\n",
    "        \n",
    "        m.addConstr( Cx[ctr]  == lPoint_x[1] - lPoint_x[2], 'A3x.1.1'); \n",
    "        m.addConstr( Cy[ctr]  == lPoint_y[1] - lPoint_y[2], 'A3y.1.1');\n",
    "        m.addQConstr( Cx[ctr]*Cx[ctr] + Cy[ctr]*Cy[ctr] <=  C[ctr]*C[ctr], 'A3.2.1');\n",
    "        \n",
    "        m.addConstr( C[ctr]+cTime[1]-sTime[1] -w[1]  == 0, 'A2.3');\n",
    "        #m.addConstr( C[ctr]+cTime[1]-sTime[1]   == 0, 'A2.3');\n",
    "    \n",
    "    elif k==2:\n",
    "        ctr=ctr+1;\n",
    "    \n",
    "        Cx[ctr] = m.addVar(lb=-GRB.INFINITY,vtype = 'C',name='Cx.A3.2');\n",
    "        Cy[ctr] = m.addVar(lb=-GRB.INFINITY,vtype = 'C',name='Cy.A3.2');\n",
    "        C[ctr] = m.addVar(lb=0.0,vtype = 'C',name='C.A3.2');\n",
    "        \n",
    "        m.addConstr( Cx[ctr]  == rPoint_x[1] - rPoint_x[2], 'A3x.1.2'); \n",
    "        m.addConstr( Cy[ctr]  == rPoint_y[1] - rPoint_y[2], 'A3y.1.2');\n",
    "        m.addQConstr( Cx[ctr]*Cx[ctr] + Cy[ctr]*Cy[ctr] <=  C[ctr]*C[ctr], 'A3.2.2');\n",
    "        \n",
    "        m.addConstr( C[ctr]+cTime[1]-sTime[1] -w[1]   == 0, 'A2.4');\n",
    "        #m.addConstr( C[ctr]+cTime[1]-sTime[1]   == 0, 'A2.4');\n",
    "        \n",
    "        \n",
    "        \n",
    "        \n",
    "    else:\n",
    "        ctr=ctr+1;\n",
    "    \n",
    "        Cx[ctr] = m.addVar(lb=-GRB.INFINITY,vtype = 'C',name='Cx.A3');\n",
    "        Cy[ctr] = m.addVar(lb=-GRB.INFINITY,vtype = 'C',name='Cy.A3');\n",
    "        C[ctr] = m.addVar(lb=0.0,vtype = 'C',name='C.A3');\n",
    "    \n",
    "    \n",
    "        m.addConstr( Cx[ctr]  == lPoint_x[k] - rPoint_x[k], 'A3x.1'); \n",
    "        m.addConstr( Cy[ctr]  == lPoint_y[k] - rPoint_y[k], 'A3y.1');\n",
    "        m.addQConstr( Cx[ctr]*Cx[ctr] + Cy[ctr]*Cy[ctr] <=  C[ctr]*C[ctr], 'A3.2');\n",
    "        m.addConstr( C[ctr]-sTime[k] -w[k]   == 0, 'A3.3');\n",
    "        #m.addConstr( C[ctr]-sTime[k]   == 0, 'A3.3');\n",
    "    \n",
    "    \"\"\"\n",
    "    \n",
    "    #FOR ABBA\n",
    "    if k==1:\n",
    "        ctr=ctr+1;\n",
    "    \n",
    "        Cx[ctr] = m.addVar(lb=-GRB.INFINITY,vtype = 'C',name='Cx.A3.1');\n",
    "        Cy[ctr] = m.addVar(lb=-GRB.INFINITY,vtype = 'C',name='Cy.A3.1');\n",
    "        C[ctr] = m.addVar(lb=0.0,vtype = 'C',name='C.A3.1');\n",
    "        \n",
    "        m.addConstr( Cx[ctr]  == lPoint_x[1] - lPoint_x[2], 'A3x.1.1'); \n",
    "        m.addConstr( Cy[ctr]  == lPoint_y[1] - lPoint_y[2], 'A3y.1.1');\n",
    "        m.addQConstr( Cx[ctr]*Cx[ctr] + Cy[ctr]*Cy[ctr] <=  C[ctr]*C[ctr], 'A3.2.1');\n",
    "        \n",
    "        m.addConstr( C[ctr]+cTime[1]-sTime[1] -w[1]  == 0, 'A2.3');\n",
    "        #m.addConstr( C[ctr]+cTime[1]-sTime[1]   == 0, 'A2.3');\n",
    "    \n",
    "    else:\n",
    "        ctr=ctr+1;\n",
    "    \n",
    "        Cx[ctr] = m.addVar(lb=-GRB.INFINITY,vtype = 'C',name='Cx.A3');\n",
    "        Cy[ctr] = m.addVar(lb=-GRB.INFINITY,vtype = 'C',name='Cy.A3');\n",
    "        C[ctr] = m.addVar(lb=0.0,vtype = 'C',name='C.A3');\n",
    "    \n",
    "    \n",
    "        m.addConstr( Cx[ctr]  == lPoint_x[k] - rPoint_x[k], 'A3x.1'); \n",
    "        m.addConstr( Cy[ctr]  == lPoint_y[k] - rPoint_y[k], 'A3y.1');\n",
    "        m.addQConstr( Cx[ctr]*Cx[ctr] + Cy[ctr]*Cy[ctr] <=  C[ctr]*C[ctr], 'A3.2');\n",
    "        m.addConstr( C[ctr]-sTime[k]  -w[k] == 0, 'A3.3');\n",
    "        #m.addConstr( C[ctr]-sTime[k]  == 0, 'A3.3');\n",
    "    \n",
    "    \n",
    "    \"\"\"\n",
    "    \n",
    "    ctr=ctr+1;\n",
    "    \n",
    "    Cx[ctr] = m.addVar(lb=-GRB.INFINITY,vtype = 'C',name='Cx.A3');\n",
    "    Cy[ctr] = m.addVar(lb=-GRB.INFINITY,vtype = 'C',name='Cy.A3');\n",
    "    C[ctr] = m.addVar(lb=0.0,vtype = 'C',name='C.A3');\n",
    "    \n",
    "    \n",
    "    m.addConstr( Cx[ctr]  == lPoint_x[k] - rPoint_x[k], 'A3x.1'); \n",
    "    m.addConstr( Cy[ctr]  == lPoint_y[k] - rPoint_y[k], 'A3y.1');\n",
    "    m.addQConstr( Cx[ctr]*Cx[ctr] + Cy[ctr]*Cy[ctr] <=  C[ctr]*C[ctr], 'A3.2');\n",
    "    m.addConstr( C[ctr]-sTime[k]  -w[k] == 0, 'A3.3');\n",
    "    #m.addConstr( C[ctr]-sTime[k]  == 0, 'A3.3');\n",
    "    \"\"\"\n",
    "    #A4\n",
    "    ctr=ctr+1;\n",
    "    \n",
    "    Cx[ctr] = m.addVar(lb=-GRB.INFINITY,vtype = 'C',name='Cx.A4');\n",
    "    Cy[ctr] = m.addVar(lb=-GRB.INFINITY,vtype = 'C',name='Cy.A4');\n",
    "    C[ctr] = m.addVar(lb=0.0,vtype = 'C',name='C.A4');\n",
    "    \n",
    "    \n",
    "    m.addConstr( Cx[ctr]  == s[k][0] - lPoint_x[k], 'A4x.1'); \n",
    "    m.addConstr( Cy[ctr]  == s[k][1] - lPoint_y[k], 'A4y.1');\n",
    "    m.addQConstr( Cx[ctr]*Cx[ctr] + Cy[ctr]*Cy[ctr] <=  C[ctr]*C[ctr], 'A4.2');\n",
    "    m.addConstr( C[ctr]-outFlightDist[k]   == 0, 'A4.3'); \n",
    "    \n",
    "    #A5\n",
    "    ctr=ctr+1;\n",
    "    \n",
    "    Cx[ctr] = m.addVar(lb=-GRB.INFINITY,vtype = 'C',name='Cx.A5');\n",
    "    Cy[ctr] = m.addVar(lb=-GRB.INFINITY,vtype = 'C',name='Cy.A5');\n",
    "    C[ctr] = m.addVar(lb=0.0,vtype = 'C',name='C.A5');\n",
    "    \n",
    "    \n",
    "    m.addConstr( Cx[ctr]  == s[k][0] - rPoint_x[k], 'A5x.1'); \n",
    "    m.addConstr( Cy[ctr]  == s[k][1] - rPoint_y[k], 'A5y.1');\n",
    "    m.addQConstr( Cx[ctr]*Cx[ctr] + Cy[ctr]*Cy[ctr] <=  C[ctr]*C[ctr], 'A5.2');\n",
    "    m.addConstr( C[ctr]-inFlightDist[k]   == 0, 'A5.3'); \n",
    "    \n",
    "    \n",
    "    #A6\n",
    "    #m.addConstr( (outFlightDist[k] + inFlightDist[k])/alpha   <= sTime[k], 'A6'); \n",
    "    m.addConstr( (outFlightDist[k] + inFlightDist[k])  <= sTime[k]*alpha, 'A6'); \n",
    "    \n",
    "    #A7\n",
    "    m.addConstr( sTime[k]   <= R, 'A7'); \n",
    "    \n",
    "    \n",
    "    \n",
    "    \n",
    "    \n",
    "    "
   ]
  },
  {
   "cell_type": "markdown",
   "metadata": {},
   "source": [
    "# Set objective:"
   ]
  },
  {
   "cell_type": "code",
   "execution_count": 8,
   "metadata": {},
   "outputs": [],
   "source": [
    "# Set objective:\n",
    "\n",
    "\n",
    "obj = quicksum(((1+epsilon)*(cTime[k]+sTime[k])+w[k] ) for k in range(0,n+2))-2*sTime[2]\n",
    "\n",
    "\n",
    "\n",
    "#(cTime[k]+sTime[k])+w[k]) \n",
    "#ABAB\n",
    "#-2*cTime[1]\n",
    "\n",
    "#ABBA\n",
    "#-2*sTime[2]\n",
    "\n",
    "m.setObjective(obj,GRB.MINIMIZE)"
   ]
  },
  {
   "cell_type": "code",
   "execution_count": 9,
   "metadata": {},
   "outputs": [
    {
     "name": "stdout",
     "output_type": "stream",
     "text": [
      "Optimize a model with 51 rows, 70 columns and 110 nonzeros\n",
      "Optimize a model with 51 rows, 70 columns and 110 nonzeros\n",
      "Model has 12 quadratic constraints\n",
      "Model has 12 quadratic constraints\n",
      "Coefficient statistics:\n",
      "Coefficient statistics:\n",
      "  Matrix range     [1e+00, 2e+00]\n",
      "  Matrix range     [1e+00, 2e+00]\n",
      "  QMatrix range    [1e+00, 1e+00]\n",
      "  QMatrix range    [1e+00, 1e+00]\n",
      "  Objective range  [1e+00, 1e+00]\n",
      "  Objective range  [1e+00, 1e+00]\n",
      "  Bounds range     [0e+00, 0e+00]\n",
      "  Bounds range     [0e+00, 0e+00]\n",
      "  RHS range        [1e+00, 3e+01]\n",
      "  RHS range        [1e+00, 3e+01]\n",
      "Presolve removed 35 rows and 35 columns\n",
      "Presolve removed 35 rows and 35 columns\n",
      "Presolve time: 0.02s\n",
      "Presolve time: 0.02s\n",
      "Presolved: 24 rows, 35 columns, 53 nonzeros\n",
      "Presolved: 24 rows, 35 columns, 53 nonzeros\n",
      "Presolved model has 9 second-order cone constraints\n",
      "Presolved model has 9 second-order cone constraints\n",
      "Ordering time: 0.00s\n",
      "Ordering time: 0.00s\n",
      "\n",
      "\n",
      "Barrier statistics:\n",
      "Barrier statistics:\n",
      " AA' NZ     : 8.600e+01\n",
      " AA' NZ     : 8.600e+01\n",
      " Factor NZ  : 2.210e+02\n",
      " Factor NZ  : 2.210e+02\n",
      " Factor Ops : 2.701e+03 (less than 1 second per iteration)\n",
      " Factor Ops : 2.701e+03 (less than 1 second per iteration)\n",
      " Threads    : 1\n",
      " Threads    : 1\n",
      "\n",
      "\n",
      "                  Objective                Residual\n",
      "                  Objective                Residual\n",
      "Iter       Primal          Dual         Primal    Dual     Compl     Time\n",
      "Iter       Primal          Dual         Primal    Dual     Compl     Time\n",
      "   0   8.36912499e+02 -5.08659574e+01  8.00e+01 3.98e+00  1.24e+02     0s\n",
      "   0   8.36912499e+02 -5.08659574e+01  8.00e+01 3.98e+00  1.24e+02     0s\n",
      "   1   2.81577667e+02 -1.43097433e+02  7.27e+00 4.72e-01  1.79e+01     0s\n",
      "   1   2.81577667e+02 -1.43097433e+02  7.27e+00 4.72e-01  1.79e+01     0s\n",
      "   2   7.96354704e+01 -5.75170034e+01  1.36e+00 9.58e-04  3.15e+00     0s\n",
      "   2   7.96354704e+01 -5.75170034e+01  1.36e+00 9.58e-04  3.15e+00     0s\n",
      "   3   3.25467059e+01  1.19675859e+01  2.75e-01 4.61e-05  4.58e-01     0s\n",
      "   3   3.25467059e+01  1.19675859e+01  2.75e-01 4.61e-05  4.58e-01     0s\n",
      "   4   2.41944790e+01  2.19579706e+01  5.29e-02 3.60e-06  5.42e-02     0s\n",
      "   4   2.41944790e+01  2.19579706e+01  5.29e-02 3.60e-06  5.42e-02     0s\n",
      "   5   2.30544182e+01  2.30029694e+01  9.65e-04 8.22e-08  1.23e-03     0s\n",
      "   5   2.30544182e+01  2.30029694e+01  9.65e-04 8.22e-08  1.23e-03     0s\n",
      "   6   2.30266426e+01  2.30250356e+01  1.69e-05 3.23e-09  3.59e-05     0s\n",
      "   6   2.30266426e+01  2.30250356e+01  1.69e-05 3.23e-09  3.59e-05     0s\n",
      "   7   2.30261006e+01  2.30260153e+01  4.39e-08 2.30e-10  1.75e-06     0s\n",
      "   7   2.30261006e+01  2.30260153e+01  4.39e-08 2.30e-10  1.75e-06     0s\n",
      "   8   2.30260876e+01  2.30260580e+01  4.88e-14 4.23e-10  6.04e-07     0s\n",
      "   8   2.30260876e+01  2.30260580e+01  4.88e-14 4.23e-10  6.04e-07     0s\n",
      "   9   2.30260779e+01  2.30260732e+01  7.11e-15 3.83e-09  9.65e-08     0s\n",
      "   9   2.30260779e+01  2.30260732e+01  7.11e-15 3.83e-09  9.65e-08     0s\n",
      "\n",
      "\n",
      "Barrier solved model in 9 iterations and 0.05 seconds\n",
      "Barrier solved model in 9 iterations and 0.05 seconds\n",
      "Optimal objective 2.30260779e+01\n",
      "Optimal objective 2.30260779e+01\n",
      "\n",
      "\n"
     ]
    }
   ],
   "source": [
    "m.optimize()"
   ]
  },
  {
   "cell_type": "code",
   "execution_count": null,
   "metadata": {},
   "outputs": [],
   "source": []
  },
  {
   "cell_type": "code",
   "execution_count": null,
   "metadata": {},
   "outputs": [],
   "source": []
  },
  {
   "cell_type": "code",
   "execution_count": 10,
   "metadata": {},
   "outputs": [],
   "source": [
    "def distance(query, target):\n",
    "    x_dist = (target[0] - query[0])**2\n",
    "    y_dist = (target[1] - query[1])**2\n",
    "    dist = np.sqrt(x_dist + y_dist )\n",
    "    return dist"
   ]
  },
  {
   "cell_type": "code",
   "execution_count": 11,
   "metadata": {},
   "outputs": [],
   "source": [
    "#ABBA\n",
    "d=distance(orig,(lPoint_x[1].X,lPoint_y[1].X))+distance((lPoint_x[2].X,lPoint_y[2].X),(lPoint_x[1].X,lPoint_y[1].X))+distance((lPoint_x[2].X,lPoint_y[2].X),(rPoint_x[2].X,rPoint_y[2].X))+distance((rPoint_x[1].X,rPoint_y[1].X),(rPoint_x[2].X,rPoint_y[2].X))+distance((rPoint_x[1].X,rPoint_y[1].X),dest)\n",
    "\n",
    "\n",
    "\n",
    "#ABAB\n",
    "#d=distance(orig,(lPoint_x[1].X,lPoint_y[1].X))+distance((lPoint_x[2].X,lPoint_y[2].X),(lPoint_x[1].X,lPoint_y[1].X))+distance((lPoint_x[2].X,lPoint_y[2].X),(rPoint_x[1].X,rPoint_y[1].X))+distance((rPoint_x[2].X,rPoint_y[2].X),(rPoint_x[1].X,rPoint_y[1].X))+distance((rPoint_x[2].X,rPoint_y[2].X),dest)\n",
    "\n",
    "\n",
    "\n",
    "\n",
    "#AABB\n",
    "#d=distance(orig,(lPoint_x[1].X,lPoint_y[1].X))+distance((rPoint_x[1].X,rPoint_y[1].X),(lPoint_x[1].X,lPoint_y[1].X))+distance((lPoint_x[2].X,lPoint_y[2].X),(rPoint_x[1].X,rPoint_y[1].X))+distance((rPoint_x[2].X,rPoint_y[2].X),(lPoint_x[2].X,lPoint_y[2].X))+distance((rPoint_x[2].X,rPoint_y[2].X),dest)\n"
   ]
  },
  {
   "cell_type": "code",
   "execution_count": 12,
   "metadata": {},
   "outputs": [],
   "source": [
    "import matplotlib.pyplot as plt"
   ]
  },
  {
   "cell_type": "code",
   "execution_count": 13,
   "metadata": {},
   "outputs": [
    {
     "name": "stdout",
     "output_type": "stream",
     "text": [
      "obj: 23.026077909015754 with waiting time\n",
      "length: 22.902620342174124 km\n",
      "obj: 23.026077909015754 with waiting time\n",
      "length: 22.902620342174124 km\n"
     ]
    },
    {
     "data": {
      "text/plain": [
       "[<matplotlib.lines.Line2D at 0x112017748>]"
      ]
     },
     "execution_count": 13,
     "metadata": {},
     "output_type": "execute_result"
    },
    {
     "data": {
      "text/plain": [
       "[<matplotlib.lines.Line2D at 0x112017748>]"
      ]
     },
     "execution_count": 13,
     "metadata": {},
     "output_type": "execute_result"
    },
    {
     "data": {
      "image/png": "[encoded data removed]",
      "text/plain": [
       "<Figure size 432x288 with 1 Axes>"
      ]
     },
     "metadata": {
      "needs_background": "light"
     },
     "output_type": "display_data"
    },
    {
     "data": {
      "image/png": "[encoded data removed]",
      "text/plain": [
       "<Figure size 432x288 with 1 Axes>"
      ]
     },
     "metadata": {
      "needs_background": "light"
     },
     "output_type": "display_data"
    }
   ],
   "source": [
    "\n",
    "obj = m.getObjective()\n",
    "print(\"obj:\",obj.getValue(), \"with waiting time\")\n",
    "print(\"length:\",d, \"km\")\n",
    "#plt.xlabel(\"x/km\")\n",
    "#plt.ylabel(\"y/km\")\n",
    "\n",
    "plt.plot([lPoint_x[1].X, orig[0]],[lPoint_y[1].X,  orig[1]], color= 'b')\n",
    "plt.plot([rPoint_x[n].X, dest[0]],[rPoint_y[n].X,  dest[1]], color= 'b')\n",
    "\n",
    "for i in range(1,n+1):\n",
    "    plt.plot([lPoint_x[i].X, rPoint_x[i].X],[lPoint_y[i].X,  rPoint_y[i].X], color= 'b')\n",
    "    if i<n:\n",
    "        plt.plot([lPoint_x[i+1].X, rPoint_x[i].X],[lPoint_y[i+1].X,  rPoint_y[i].X], color= 'b')\n",
    "\n",
    "\n",
    "for i in range(1,n+1):\n",
    "    plt.plot([s[i][0] ,  rPoint_x[i].X] ,[s[i][1],  rPoint_y[i].X],linestyle= '--')\n",
    "    plt.plot([lPoint_x[i].X, s[i][0]],[lPoint_y[i].X,  s[i][1]],linestyle= '--')\n",
    "    plt.plot(s[i][0], s[i][1], marker='*',color='r')\n",
    "\n",
    "plt.plot(s[0][0], s[0][1], marker='o',color='b')\n"
   ]
  },
  {
   "cell_type": "code",
   "execution_count": 14,
   "metadata": {},
   "outputs": [
    {
     "name": "stdout",
     "output_type": "stream",
     "text": [
      "obj: 23.026077909015754 with waiting time +epsilon\n",
      "length: 22.902620342174124 km\n",
      "obj: 23.026077909015754 with waiting time +epsilon\n",
      "length: 22.902620342174124 km\n"
     ]
    },
    {
     "data": {
      "image/png": "[encoded data removed]",
      "text/plain": [
       "<Figure size 432x288 with 1 Axes>"
      ]
     },
     "metadata": {
      "needs_background": "light"
     },
     "output_type": "display_data"
    },
    {
     "data": {
      "image/png": "[encoded data removed]",
      "text/plain": [
       "<Figure size 432x288 with 1 Axes>"
      ]
     },
     "metadata": {
      "needs_background": "light"
     },
     "output_type": "display_data"
    }
   ],
   "source": [
    "obj = m.getObjective()\n",
    "print(\"obj:\",obj.getValue(), \"with waiting time +epsilon\")\n",
    "#with waiting time+epsilon\n",
    "print(\"length:\",d, \"km\")\n",
    "import matplotlib.pyplot as plt\n",
    "plt.xlabel(\"x/km\")\n",
    "plt.ylabel(\"y/km\")\n",
    "\n",
    "plt.plot([lPoint_x[1].X, orig[0]],[lPoint_y[1].X,  orig[1]], color= 'b')\n",
    "plt.plot([rPoint_x[n].X, dest[0]],[rPoint_y[n].X,  dest[1]], color= 'b')\n",
    "\n",
    "\n",
    "plt.plot([lPoint_x[1].X, lPoint_x[2].X],[lPoint_y[1].X,  lPoint_y[2].X], color= 'b')\n",
    "plt.plot([rPoint_x[1].X, lPoint_x[2].X],[rPoint_y[1].X,  lPoint_y[2].X], color= 'b')\n",
    "plt.plot([rPoint_x[1].X, rPoint_x[2].X],[rPoint_y[1].X,  rPoint_y[2].X], color= 'b')\n",
    "\n",
    "for i in range(1,n+1):\n",
    "    plt.plot([s[i][0] ,  rPoint_x[i].X] ,[s[i][1],  rPoint_y[i].X],linestyle= '--')\n",
    "    plt.plot([lPoint_x[i].X, s[i][0]],[lPoint_y[i].X,  s[i][1]],linestyle= '--')\n",
    "    plt.plot(s[i][0], s[i][1], marker='*',color='r')"
   ]
  },
  {
   "cell_type": "code",
   "execution_count": 15,
   "metadata": {},
   "outputs": [
    {
     "data": {
      "text/plain": [
       "{0: <gurobi.Var waitingTime[0] (value 0.0)>,\n",
       " 1: <gurobi.Var waitingTime[1] (value 3.904001391967152e-09)>,\n",
       " 2: <gurobi.Var waitingTime[2] (value 3.903998866925899e-09)>,\n",
       " 3: <gurobi.Var waitingTime[3] (value 0.0)>}"
      ]
     },
     "execution_count": 15,
     "metadata": {},
     "output_type": "execute_result"
    },
    {
     "data": {
      "text/plain": [
       "{0: <gurobi.Var waitingTime[0] (value 0.0)>,\n",
       " 1: <gurobi.Var waitingTime[1] (value 3.904001391967152e-09)>,\n",
       " 2: <gurobi.Var waitingTime[2] (value 3.903998866925899e-09)>,\n",
       " 3: <gurobi.Var waitingTime[3] (value 0.0)>}"
      ]
     },
     "execution_count": 15,
     "metadata": {},
     "output_type": "execute_result"
    }
   ],
   "source": [
    "w"
   ]
  },
  {
   "cell_type": "code",
   "execution_count": null,
   "metadata": {},
   "outputs": [],
   "source": []
  },
  {
   "cell_type": "code",
   "execution_count": null,
   "metadata": {},
   "outputs": [],
   "source": []
  },
  {
   "cell_type": "code",
   "execution_count": 16,
   "metadata": {},
   "outputs": [
    {
     "data": {
      "text/plain": [
       "{0: <gurobi.Var lPoint_x[0] (value 14.2)>,\n",
       " 1: <gurobi.Var lPoint_x[1] (value 14.038746798971657)>,\n",
       " 2: <gurobi.Var lPoint_x[2] (value 8.17683666787969)>,\n",
       " 3: <gurobi.Var lPoint_x[3] (value 16.06)>}"
      ]
     },
     "execution_count": 16,
     "metadata": {},
     "output_type": "execute_result"
    },
    {
     "data": {
      "text/plain": [
       "{0: <gurobi.Var lPoint_x[0] (value 14.2)>,\n",
       " 1: <gurobi.Var lPoint_x[1] (value 14.038746798971657)>,\n",
       " 2: <gurobi.Var lPoint_x[2] (value 8.17683666787969)>,\n",
       " 3: <gurobi.Var lPoint_x[3] (value 16.06)>}"
      ]
     },
     "execution_count": 16,
     "metadata": {},
     "output_type": "execute_result"
    }
   ],
   "source": [
    "lPoint_x"
   ]
  },
  {
   "cell_type": "code",
   "execution_count": 17,
   "metadata": {},
   "outputs": [
    {
     "data": {
      "text/plain": [
       "{0: <gurobi.Var lPoint_y[0] (value 14.49)>,\n",
       " 1: <gurobi.Var lPoint_y[1] (value 14.410789654376611)>,\n",
       " 2: <gurobi.Var lPoint_y[2] (value 21.952940891179775)>,\n",
       " 3: <gurobi.Var lPoint_y[3] (value 31.98)>}"
      ]
     },
     "execution_count": 17,
     "metadata": {},
     "output_type": "execute_result"
    },
    {
     "data": {
      "text/plain": [
       "{0: <gurobi.Var lPoint_y[0] (value 14.49)>,\n",
       " 1: <gurobi.Var lPoint_y[1] (value 14.410789654376611)>,\n",
       " 2: <gurobi.Var lPoint_y[2] (value 21.952940891179775)>,\n",
       " 3: <gurobi.Var lPoint_y[3] (value 31.98)>}"
      ]
     },
     "execution_count": 17,
     "metadata": {},
     "output_type": "execute_result"
    }
   ],
   "source": [
    "lPoint_y"
   ]
  },
  {
   "cell_type": "code",
   "execution_count": 18,
   "metadata": {},
   "outputs": [
    {
     "data": {
      "text/plain": [
       "{0: <gurobi.Var rPoint_x[0] (value 14.2)>,\n",
       " 1: <gurobi.Var rPoint_x[1] (value 14.545854096678621)>,\n",
       " 2: <gurobi.Var rPoint_x[2] (value 14.65155640384193)>,\n",
       " 3: <gurobi.Var rPoint_x[3] (value 16.06)>}"
      ]
     },
     "execution_count": 18,
     "metadata": {},
     "output_type": "execute_result"
    },
    {
     "data": {
      "text/plain": [
       "{0: <gurobi.Var rPoint_x[0] (value 14.2)>,\n",
       " 1: <gurobi.Var rPoint_x[1] (value 14.545854096678621)>,\n",
       " 2: <gurobi.Var rPoint_x[2] (value 14.65155640384193)>,\n",
       " 3: <gurobi.Var rPoint_x[3] (value 16.06)>}"
      ]
     },
     "execution_count": 18,
     "metadata": {},
     "output_type": "execute_result"
    }
   ],
   "source": [
    "rPoint_x"
   ]
  },
  {
   "cell_type": "code",
   "execution_count": 19,
   "metadata": {},
   "outputs": [
    {
     "data": {
      "text/plain": [
       "{0: <gurobi.Var rPoint_y[0] (value 14.49)>,\n",
       " 1: <gurobi.Var rPoint_y[1] (value 29.56976710727421)>,\n",
       " 2: <gurobi.Var rPoint_y[2] (value 29.73797250040447)>,\n",
       " 3: <gurobi.Var rPoint_y[3] (value 31.98)>}"
      ]
     },
     "execution_count": 19,
     "metadata": {},
     "output_type": "execute_result"
    },
    {
     "data": {
      "text/plain": [
       "{0: <gurobi.Var rPoint_y[0] (value 14.49)>,\n",
       " 1: <gurobi.Var rPoint_y[1] (value 29.56976710727421)>,\n",
       " 2: <gurobi.Var rPoint_y[2] (value 29.73797250040447)>,\n",
       " 3: <gurobi.Var rPoint_y[3] (value 31.98)>}"
      ]
     },
     "execution_count": 19,
     "metadata": {},
     "output_type": "execute_result"
    }
   ],
   "source": [
    "rPoint_y"
   ]
  },
  {
   "cell_type": "code",
   "execution_count": 20,
   "metadata": {},
   "outputs": [
    {
     "data": {
      "text/plain": [
       "<gurobi.Var cTime[1] (value 10.431371083335547)>"
      ]
     },
     "execution_count": 20,
     "metadata": {},
     "output_type": "execute_result"
    },
    {
     "data": {
      "text/plain": [
       "<gurobi.Var cTime[1] (value 10.431371083335547)>"
      ]
     },
     "execution_count": 20,
     "metadata": {},
     "output_type": "execute_result"
    }
   ],
   "source": [
    "cTime[1]"
   ]
  },
  {
   "cell_type": "code",
   "execution_count": 21,
   "metadata": {},
   "outputs": [
    {
     "data": {
      "text/plain": [
       "10.431371080942288"
      ]
     },
     "execution_count": 21,
     "metadata": {},
     "output_type": "execute_result"
    },
    {
     "data": {
      "text/plain": [
       "10.431371080942288"
      ]
     },
     "execution_count": 21,
     "metadata": {},
     "output_type": "execute_result"
    }
   ],
   "source": [
    "sTime[2].X + distance((rPoint_x[1].X,rPoint_y[1].X),(rPoint_x[2].X,rPoint_y[2].X))"
   ]
  },
  {
   "cell_type": "code",
   "execution_count": 25,
   "metadata": {},
   "outputs": [
    {
     "data": {
      "text/plain": [
       "{0: <gurobi.Var sTime[0] (value 1.561597039873519e-08)>,\n",
       " 1: <gurobi.Var sTime[1] (value 19.999999996095998)>,\n",
       " 2: <gurobi.Var sTime[2] (value 10.23271048591209)>,\n",
       " 3: <gurobi.Var sTime[3] (value 0.0)>}"
      ]
     },
     "execution_count": 25,
     "metadata": {},
     "output_type": "execute_result"
    }
   ],
   "source": [
    "sTime"
   ]
  },
  {
   "cell_type": "code",
   "execution_count": 36,
   "metadata": {},
   "outputs": [
    {
     "data": {
      "text/plain": [
       "0.03313245014538779"
      ]
     },
     "execution_count": 36,
     "metadata": {},
     "output_type": "execute_result"
    }
   ],
   "source": [
    "10.23271048591209-(distance(s[2],(lPoint_x[2].X,lPoint_y[2].X))+distance(s[2],(rPoint_x[2].X,rPoint_y[2].X)))/2"
   ]
  },
  {
   "cell_type": "code",
   "execution_count": null,
   "metadata": {},
   "outputs": [],
   "source": []
  },
  {
   "cell_type": "code",
   "execution_count": 28,
   "metadata": {},
   "outputs": [],
   "source": [
    "(lPoint_x[1],lPoint_y[1])"
   ]
  },
  {
   "cell_type": "code",
   "execution_count": 22,
   "metadata": {},
   "outputs": [],
   "source": [
    "import numpy as np"
   ]
  },
  {
   "cell_type": "code",
   "execution_count": 23,
   "metadata": {},
   "outputs": [
    {
     "ename": "NameError",
     "evalue": "name 'a' is not defined",
     "output_type": "error",
     "traceback": [
      "\u001b[0;31m---------------------------------------------------------------------------\u001b[0m",
      "\u001b[0;31mNameError\u001b[0m                                 Traceback (most recent call last)",
      "\u001b[0;32m<ipython-input-23-3f786850e387>\u001b[0m in \u001b[0;36m<module>\u001b[0;34m\u001b[0m\n\u001b[0;32m----> 1\u001b[0;31m \u001b[0ma\u001b[0m\u001b[0;34m\u001b[0m\u001b[0;34m\u001b[0m\u001b[0m\n\u001b[0m",
      "\u001b[0;31mNameError\u001b[0m: name 'a' is not defined"
     ]
    },
    {
     "ename": "NameError",
     "evalue": "name 'a' is not defined",
     "output_type": "error",
     "traceback": [
      "\u001b[0;31m---------------------------------------------------------------------------\u001b[0m",
      "\u001b[0;31mNameError\u001b[0m                                 Traceback (most recent call last)",
      "\u001b[0;32m<ipython-input-23-3f786850e387>\u001b[0m in \u001b[0;36m<module>\u001b[0;34m\u001b[0m\n\u001b[0;32m----> 1\u001b[0;31m \u001b[0ma\u001b[0m\u001b[0;34m\u001b[0m\u001b[0;34m\u001b[0m\u001b[0m\n\u001b[0m",
      "\u001b[0;31mNameError\u001b[0m: name 'a' is not defined"
     ]
    }
   ],
   "source": [
    "a"
   ]
  },
  {
   "cell_type": "code",
   "execution_count": null,
   "metadata": {},
   "outputs": [],
   "source": [
    "w"
   ]
  },
  {
   "cell_type": "code",
   "execution_count": null,
   "metadata": {},
   "outputs": [],
   "source": [
    "#AABB\n",
    "d=distance(orig,(lPoint_x[1].X,lPoint_y[1].X))+distance((rPoint_x[1].X,rPoint_y[1].X),(lPoint_x[1].X,lPoint_y[1].X))+distance((lPoint_x[2].X,lPoint_y[2].X),(rPoint_x[1].X,rPoint_y[1].X))+distance((rPoint_x[2].X,rPoint_y[2].X),(lPoint_x[2].X,lPoint_y[2].X))+distance((rPoint_x[2].X,rPoint_y[2].X),dest)"
   ]
  }
 ],
 "metadata": {
  "kernelspec": {
   "display_name": "Python 3",
   "language": "python",
   "name": "python3"
  },
  "language_info": {
   "codemirror_mode": {
    "name": "ipython",
    "version": 3
   },
   "file_extension": ".py",
   "mimetype": "text/x-python",
   "name": "python",
   "nbconvert_exporter": "python",
   "pygments_lexer": "ipython3",
   "version": "3.6.7"
  }
 },
 "nbformat": 4,
 "nbformat_minor": 2
}
