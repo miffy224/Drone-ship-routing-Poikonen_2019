{
 "cells": [
  {
   "cell_type": "code",
   "execution_count": 1,
   "metadata": {},
   "outputs": [],
   "source": [
    "from gurobipy import *\n",
    "from math import * "
   ]
  },
  {
   "cell_type": "code",
   "execution_count": 2,
   "metadata": {},
   "outputs": [],
   "source": [
    "#n=4"
   ]
  },
  {
   "cell_type": "code",
   "execution_count": 3,
   "metadata": {},
   "outputs": [],
   "source": [
    "\"\"\"\n",
    "\n",
    "Poikonen, S., & Golden, B. (2020). \n",
    "The mothership and drone routing problem. \n",
    "INFORMS Journal on Computing, 32(2), 249-262.\n",
    "\n",
    "https://drive.google.com/file/d/1C_4_F6HzwCA3upkeWnZ0CWkMoHHefzy5/view\n",
    "\n",
    "\"\"\"\n",
    "\n",
    "s=((10,10),((10,90),(20,90)),((90,15),(90,10),(88,5)),((50,0),(35,5)),(10,10));\n",
    "\n",
    "orig=(10,10)\n",
    "dest=(10,10)\n",
    "R=20\n",
    "alpha=2"
   ]
  },
  {
   "cell_type": "code",
   "execution_count": null,
   "metadata": {},
   "outputs": [],
   "source": []
  },
  {
   "cell_type": "code",
   "execution_count": 4,
   "metadata": {},
   "outputs": [],
   "source": [
    "M=len(s)-2"
   ]
  },
  {
   "cell_type": "code",
   "execution_count": null,
   "metadata": {},
   "outputs": [],
   "source": []
  },
  {
   "cell_type": "code",
   "execution_count": 5,
   "metadata": {},
   "outputs": [],
   "source": [
    "#s[i][j-1]\n",
    "#s[2][1]"
   ]
  },
  {
   "cell_type": "code",
   "execution_count": 6,
   "metadata": {},
   "outputs": [],
   "source": [
    "def first(ST_i):\n",
    "    if ST_i==s[0]:\n",
    "        return ST_i\n",
    "    else:\n",
    "        return ST_i[0]\n",
    "def last(ST_i):\n",
    "    if ST_i==s[0]:\n",
    "        return ST_i\n",
    "    else:\n",
    "        return ST_i[ len(ST_i)-1 ]\n",
    "    \n",
    "\n",
    "import numpy as np\n",
    "def distance(tx,ty ,lx,ly):\n",
    "    x_dist = (tx - lx)**2\n",
    "    y_dist = (ty - ly)**2\n",
    "    dist = np.sqrt(x_dist + y_dist )\n",
    "    return dist   \n"
   ]
  },
  {
   "cell_type": "code",
   "execution_count": 7,
   "metadata": {},
   "outputs": [],
   "source": [
    "leng={}"
   ]
  },
  {
   "cell_type": "code",
   "execution_count": 8,
   "metadata": {},
   "outputs": [],
   "source": [
    "for k in range(0,M+1):\n",
    "    if k==0:\n",
    "        leng[k]=0\n",
    "    else:\n",
    "        leng[k]=sum( distance(s[k][j][0],s[k][j][1],s[k][j+1][0],s[k][j+1][1]) for j in range (0,len(s[k])-1))"
   ]
  },
  {
   "cell_type": "code",
   "execution_count": null,
   "metadata": {},
   "outputs": [],
   "source": []
  },
  {
   "cell_type": "code",
   "execution_count": null,
   "metadata": {},
   "outputs": [],
   "source": []
  },
  {
   "cell_type": "code",
   "execution_count": null,
   "metadata": {},
   "outputs": [],
   "source": []
  },
  {
   "cell_type": "code",
   "execution_count": 9,
   "metadata": {},
   "outputs": [
    {
     "name": "stdout",
     "output_type": "stream",
     "text": [
      "Academic license - for non-commercial use only\n"
     ]
    }
   ],
   "source": [
    "# Create a new model\n",
    "m = Model(\"Poikonen_2019\")"
   ]
  },
  {
   "cell_type": "code",
   "execution_count": 10,
   "metadata": {},
   "outputs": [],
   "source": [
    "# Create variables\n",
    "\n",
    "cTime = {};\n",
    "sTime = {};\n",
    "\n",
    "lPoint_x= {};\n",
    "lPoint_y= {};\n",
    "\n",
    "rPoint_x= {};\n",
    "rPoint_y= {};\n",
    "\n",
    "\n",
    "outFlightDist = {};\n",
    "inFlightDist = {};\n",
    "intraFlightDisk={};\n",
    "\n",
    "#for SOCP\n",
    "Cx= {};\n",
    "Cy= {};\n",
    "C= {};\n"
   ]
  },
  {
   "cell_type": "code",
   "execution_count": 11,
   "metadata": {},
   "outputs": [],
   "source": [
    "for i in range(0, M+1):\n",
    "    \n",
    "    \n",
    "    outFlightDist[i] = m.addVar(lb=0.0,vtype = 'C',name='outFlightDist[%s]'%i);\n",
    "    inFlightDist[i] = m.addVar(lb=0.0,vtype = 'C',name='inFlightDist[%s]'%i);\n",
    "    intraFlightDisk[i] = m.addVar(lb=0.0,vtype = 'C',name='intraFlightDisk[%s]'%i);\n",
    "    \n",
    "\n",
    "    \n",
    "\n",
    "for i in range(0, M+2):\n",
    "    lPoint_x[i] = m.addVar(vtype = 'C',name='lPoint_x[%s]'%i);\n",
    "    lPoint_y[i] = m.addVar(vtype = 'C',name='lPoint_y[%s]'%i);\n",
    "    \n",
    "    rPoint_x[i] = m.addVar(vtype = 'C',name='rPoint_x[%s]'%i);\n",
    "    rPoint_y[i] = m.addVar(vtype = 'C',name='rPoint_y[%s]'%i);\n",
    "    \n",
    "    cTime[i] = m.addVar(lb=0.0,vtype = 'C',name='cTime[%s]'%i);\n",
    "    \n",
    "    sTime[i] = m.addVar(lb=0.0,vtype = 'C',name='sTime[%s]'%i);\n",
    "    \n",
    "\n",
    "m.update()"
   ]
  },
  {
   "cell_type": "code",
   "execution_count": 12,
   "metadata": {},
   "outputs": [],
   "source": [
    "\n",
    "# Add constraint: \n",
    "ctr=0;\n",
    "\n",
    "\n",
    "#E8\n",
    "m.addConstr( lPoint_x[0]==orig[0]);\n",
    "m.addConstr( lPoint_y[0]==orig[1] ); \n",
    "#E9\n",
    "m.addConstr( rPoint_x[0]==orig[0] ); \n",
    "m.addConstr( rPoint_y[0]==orig[1]); \n",
    "#E10\n",
    "m.addConstr( lPoint_x[M+1]==dest[0]); \n",
    "m.addConstr( lPoint_y[M+1]==dest[1] ); \n",
    "#E11\n",
    "m.addConstr( rPoint_x[M+1]==dest[0]); \n",
    "m.addConstr( rPoint_y[M+1]==dest[1]); \n",
    "\n",
    "for k in range(0, M+1):\n",
    "    #E1\n",
    "    ctr=ctr+1;\n",
    "    \n",
    "    Cx[ctr] = m.addVar(lb=-GRB.INFINITY,vtype = 'C',name='Cx.A2');\n",
    "    Cy[ctr] = m.addVar(lb=-GRB.INFINITY,vtype = 'C',name='Cy.A2');\n",
    "    C[ctr] = m.addVar(lb=0.0,vtype = 'C',name='C.A2');\n",
    "    \n",
    "    \n",
    "    m.addConstr( Cx[ctr]  == lPoint_x[k+1] - rPoint_x[k], 'A2x.1'); \n",
    "    m.addConstr( Cy[ctr]  == lPoint_y[k+1] - rPoint_y[k], 'A2y.1');\n",
    "    m.addQConstr( Cx[ctr]*Cx[ctr] + Cy[ctr]*Cy[ctr] <=  C[ctr]*C[ctr], 'A2.2');\n",
    "    m.addConstr( C[ctr]-cTime[k]   == 0, 'A2.3');\n",
    "    \n",
    "    #E2\n",
    "    ctr=ctr+1;\n",
    "    \n",
    "    Cx[ctr] = m.addVar(lb=-GRB.INFINITY,vtype = 'C',name='Cx.A3');\n",
    "    Cy[ctr] = m.addVar(lb=-GRB.INFINITY,vtype = 'C',name='Cy.A3');\n",
    "    C[ctr] = m.addVar(lb=0.0,vtype = 'C',name='C.A3');\n",
    "    \n",
    "    \n",
    "    m.addConstr( Cx[ctr]  == lPoint_x[k] - rPoint_x[k], 'A3x.1'); \n",
    "    m.addConstr( Cy[ctr]  == lPoint_y[k] - rPoint_y[k], 'A3y.1');\n",
    "    m.addQConstr( Cx[ctr]*Cx[ctr] + Cy[ctr]*Cy[ctr] <=  C[ctr]*C[ctr], 'A3.2');\n",
    "    m.addConstr( C[ctr]-sTime[k]   == 0, 'A3.3');\n",
    "    \n",
    "    \n",
    "    #E3\n",
    "    ctr=ctr+1;\n",
    "    \n",
    "    Cx[ctr] = m.addVar(lb=-GRB.INFINITY,vtype = 'C',name='Cx.A4');\n",
    "    Cy[ctr] = m.addVar(lb=-GRB.INFINITY,vtype = 'C',name='Cy.A4');\n",
    "    C[ctr] = m.addVar(lb=0.0,vtype = 'C',name='C.A4');\n",
    "    \n",
    "    \n",
    "    m.addConstr( Cx[ctr]  == first(s[k])[0] - lPoint_x[k], 'A4x.1'); \n",
    "    m.addConstr( Cy[ctr]  == first(s[k])[1] - lPoint_y[k], 'A4y.1');\n",
    "    m.addQConstr( Cx[ctr]*Cx[ctr] + Cy[ctr]*Cy[ctr] <=  C[ctr]*C[ctr], 'A4.2');\n",
    "    m.addConstr( C[ctr]-outFlightDist[k]   == 0, 'A4.3'); \n",
    "    \n",
    "    #E4\n",
    "    ctr=ctr+1;\n",
    "    \n",
    "    Cx[ctr] = m.addVar(lb=-GRB.INFINITY,vtype = 'C',name='Cx.A5');\n",
    "    Cy[ctr] = m.addVar(lb=-GRB.INFINITY,vtype = 'C',name='Cy.A5');\n",
    "    C[ctr] = m.addVar(lb=0.0,vtype = 'C',name='C.A5');\n",
    "    \n",
    "    \n",
    "    m.addConstr( Cx[ctr]  == last(s[k])[0] - rPoint_x[k], 'A5x.1'); \n",
    "    m.addConstr( Cy[ctr]  == last(s[k])[1]  - rPoint_y[k], 'A5y.1');\n",
    "    m.addQConstr( Cx[ctr]*Cx[ctr] + Cy[ctr]*Cy[ctr] <=  C[ctr]*C[ctr], 'A5.2');\n",
    "    m.addConstr( C[ctr]-inFlightDist[k]   == 0, 'A5.3'); \n",
    "    \n",
    "    \n",
    "    \n",
    "    #E5\n",
    "    m.addConstr( intraFlightDisk[k] >= leng[k], 'E5'); \n",
    "    \n",
    "    \n",
    "    #E6\n",
    "    m.addConstr( (outFlightDist[k] + intraFlightDisk[k]+inFlightDist[k])/alpha   <= sTime[k], 'A6'); \n",
    "    \n",
    "    #E7\n",
    "    m.addConstr( sTime[k]   <= R, 'A7'); \n",
    "    \n",
    "    \n",
    "    \n",
    "    \n",
    "    \n",
    "    "
   ]
  },
  {
   "cell_type": "code",
   "execution_count": 13,
   "metadata": {},
   "outputs": [],
   "source": [
    "# Set objective:\n",
    "\n",
    "\n",
    "obj = quicksum((cTime[k]+sTime[k]) for k in range(0,M+2))\n",
    "\n",
    "m.setObjective(obj,GRB.MINIMIZE)"
   ]
  },
  {
   "cell_type": "code",
   "execution_count": 14,
   "metadata": {},
   "outputs": [
    {
     "name": "stdout",
     "output_type": "stream",
     "text": [
      "Optimize a model with 68 rows, 90 columns and 144 nonzeros\n",
      "Model has 16 quadratic constraints\n",
      "Coefficient statistics:\n",
      "  Matrix range     [5e-01, 1e+00]\n",
      "  QMatrix range    [1e+00, 1e+00]\n",
      "  Objective range  [1e+00, 1e+00]\n",
      "  Bounds range     [0e+00, 0e+00]\n",
      "  RHS range        [5e+00, 9e+01]\n",
      "Presolve removed 50 rows and 48 columns\n",
      "Presolve time: 0.02s\n",
      "Presolved: 33 rows, 42 columns, 65 nonzeros\n",
      "Presolved model has 13 second-order cone constraints\n",
      "Ordering time: 0.00s\n",
      "\n",
      "Barrier statistics:\n",
      " AA' NZ     : 1.200e+02\n",
      " Factor NZ  : 3.190e+02\n",
      " Factor Ops : 3.881e+03 (less than 1 second per iteration)\n",
      " Threads    : 1\n",
      "\n",
      "                  Objective                Residual\n",
      "Iter       Primal          Dual         Primal    Dual     Compl     Time\n",
      "   0   1.14518458e+03  1.56048328e+01  1.24e+02 1.87e+00  1.58e+02     0s\n",
      "   1   5.10927851e+02 -2.54749150e+02  3.36e+01 2.06e-06  2.39e+01     0s\n",
      "   2   2.80979749e+02  3.58175206e+01  4.89e+00 3.08e-07  5.27e+00     0s\n",
      "   3   2.57769306e+02  2.06897987e+02  2.56e-13 3.79e-08  8.21e-01     0s\n",
      "   4   2.42600690e+02  2.36098831e+02  1.14e-12 5.06e-09  1.05e-01     0s\n",
      "   5   2.41352526e+02  2.40985249e+02  2.12e-12 1.17e-10  5.92e-03     0s\n",
      "   6   2.41166904e+02  2.41147181e+02  8.80e-11 2.91e-12  3.18e-04     0s\n",
      "   7   2.41156091e+02  2.41153312e+02  1.02e-09 1.77e-13  4.48e-05     0s\n",
      "   8   2.41154012e+02  2.41153816e+02  2.59e-08 1.58e-12  3.15e-06     0s\n",
      "   9   2.41153903e+02  2.41153880e+02  2.79e-08 9.31e-12  3.67e-07     0s\n",
      "\n",
      "Barrier solved model in 9 iterations and 0.05 seconds\n",
      "Optimal objective 2.41153903e+02\n",
      "\n"
     ]
    }
   ],
   "source": [
    "m.optimize()"
   ]
  },
  {
   "cell_type": "code",
   "execution_count": null,
   "metadata": {},
   "outputs": [],
   "source": []
  },
  {
   "cell_type": "code",
   "execution_count": null,
   "metadata": {},
   "outputs": [],
   "source": []
  },
  {
   "cell_type": "code",
   "execution_count": 20,
   "metadata": {},
   "outputs": [
    {
     "data": {
      "text/plain": [
       "<function matplotlib.pyplot.show(*args, **kw)>"
      ]
     },
     "execution_count": 20,
     "metadata": {},
     "output_type": "execute_result"
    },
    {
     "data": {
      "image/png": "[encoded data removed]",
      "text/plain": [
       "<Figure size 432x288 with 1 Axes>"
      ]
     },
     "metadata": {
      "needs_background": "light"
     },
     "output_type": "display_data"
    }
   ],
   "source": [
    "import matplotlib.pyplot as plt\n",
    "plt.xlabel(\"x/km\")\n",
    "plt.ylabel(\"y/km\")\n",
    "\n",
    "plt.plot([lPoint_x[1].X, orig[0]],[lPoint_y[1].X,  orig[1]], color= 'b')\n",
    "plt.plot([rPoint_x[M].X, dest[0]],[rPoint_y[M].X,  dest[1]], color= 'b')\n",
    "\n",
    "for i in range(1,M+1):\n",
    "    plt.plot([lPoint_x[i].X, rPoint_x[i].X],[lPoint_y[i].X,  rPoint_y[i].X], color= 'b')\n",
    "    if i<M:\n",
    "        plt.plot([lPoint_x[i+1].X, rPoint_x[i].X],[lPoint_y[i+1].X,  rPoint_y[i].X], color= 'b')\n",
    "\n",
    "\n",
    "#for i in range(1,M+1):\n",
    "    #plt.plot([s[i][0] ,  rPoint_x[i].X] ,[s[i][1],  rPoint_y[i].X],linestyle= '--')\n",
    "    #plt.plot([lPoint_x[i].X, s[i][0]],[lPoint_y[i].X,  s[i][1]],linestyle= '--')\n",
    "    #plt.plot(s[i][0], s[i][1], marker='*',color='r')\n",
    "    \n",
    "for i in range(1,M+1):\n",
    "    for j in range(0,len(s[i])):\n",
    "        plt.plot(s[i][j][0], s[i][j][1], marker='*',color='r')\n",
    "        \n",
    "    plt.plot([lPoint_x[i].X, first(s[i])[0]],[lPoint_y[i].X,  first(s[i])[1]],linestyle= '--',color='r')\n",
    "    plt.plot([rPoint_x[i].X, last(s[i])[0]],[rPoint_y[i].X,  last(s[i])[1]],linestyle= '--',color='r')\n",
    "    for j in range(0,len(s[i])-1):\n",
    "        plt.plot([s[i][j][0], s[i][j+1][0]],[s[i][j][1], s[i][j+1][1]],linestyle= '--',color='r')\n",
    "    \n",
    "\n",
    "plt.plot(s[0][0], s[0][1], marker='o',color='b')\n",
    "\n",
    "plt.show"
   ]
  },
  {
   "cell_type": "code",
   "execution_count": null,
   "metadata": {},
   "outputs": [],
   "source": []
  },
  {
   "cell_type": "code",
   "execution_count": null,
   "metadata": {},
   "outputs": [],
   "source": []
  },
  {
   "cell_type": "code",
   "execution_count": 16,
   "metadata": {},
   "outputs": [
    {
     "data": {
      "text/plain": [
       "{0: <gurobi.Var lPoint_x[0] (value 10.0)>,\n",
       " 1: <gurobi.Var lPoint_x[1] (value 10.147009395110645)>,\n",
       " 2: <gurobi.Var lPoint_x[2] (value 80.47668450628849)>,\n",
       " 3: <gurobi.Var lPoint_x[3] (value 52.98395458620367)>,\n",
       " 4: <gurobi.Var lPoint_x[4] (value 10.0)>}"
      ]
     },
     "execution_count": 16,
     "metadata": {},
     "output_type": "execute_result"
    }
   ],
   "source": [
    "lPoint_x"
   ]
  },
  {
   "cell_type": "code",
   "execution_count": 17,
   "metadata": {},
   "outputs": [
    {
     "data": {
      "text/plain": [
       "{0: <gurobi.Var lPoint_y[0] (value 10.0)>,\n",
       " 1: <gurobi.Var lPoint_y[1] (value 73.04950864598176)>,\n",
       " 2: <gurobi.Var lPoint_y[2] (value 24.573488396826214)>,\n",
       " 3: <gurobi.Var lPoint_y[3] (value 7.5575496116504945)>,\n",
       " 4: <gurobi.Var lPoint_y[4] (value 10.0)>}"
      ]
     },
     "execution_count": 17,
     "metadata": {},
     "output_type": "execute_result"
    }
   ],
   "source": [
    "lPoint_y"
   ]
  },
  {
   "cell_type": "code",
   "execution_count": 18,
   "metadata": {},
   "outputs": [
    {
     "data": {
      "text/plain": [
       "{0: <gurobi.Var rPoint_x[0] (value 10.0)>,\n",
       " 1: <gurobi.Var rPoint_x[1] (value 28.771303778337987)>,\n",
       " 2: <gurobi.Var rPoint_x[2] (value 71.95672487095203)>,\n",
       " 3: <gurobi.Var rPoint_x[3] (value 34.130113790879)>,\n",
       " 4: <gurobi.Var rPoint_x[4] (value 10.0)>}"
      ]
     },
     "execution_count": 18,
     "metadata": {},
     "output_type": "execute_result"
    }
   ],
   "source": [
    "rPoint_x"
   ]
  },
  {
   "cell_type": "code",
   "execution_count": 19,
   "metadata": {},
   "outputs": [
    {
     "data": {
      "text/plain": [
       "{0: <gurobi.Var rPoint_y[0] (value 10.0)>,\n",
       " 1: <gurobi.Var rPoint_y[1] (value 80.33888237517486)>,\n",
       " 2: <gurobi.Var rPoint_y[2] (value 6.479028281071176)>,\n",
       " 3: <gurobi.Var rPoint_y[3] (value 8.629236092378644)>,\n",
       " 4: <gurobi.Var rPoint_y[4] (value 10.0)>}"
      ]
     },
     "execution_count": 19,
     "metadata": {},
     "output_type": "execute_result"
    }
   ],
   "source": [
    "rPoint_y"
   ]
  },
  {
   "cell_type": "code",
   "execution_count": null,
   "metadata": {},
   "outputs": [],
   "source": []
  }
 ],
 "metadata": {
  "kernelspec": {
   "display_name": "Python 3",
   "language": "python",
   "name": "python3"
  },
  "language_info": {
   "codemirror_mode": {
    "name": "ipython",
    "version": 3
   },
   "file_extension": ".py",
   "mimetype": "text/x-python",
   "name": "python",
   "nbconvert_exporter": "python",
   "pygments_lexer": "ipython3",
   "version": "3.6.7"
  }
 },
 "nbformat": 4,
 "nbformat_minor": 2
}
